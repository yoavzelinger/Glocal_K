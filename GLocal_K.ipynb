{
  "cells": [
    {
      "cell_type": "code",
      "execution_count": 1,
      "metadata": {
        "id": "ty3gYQgtnwFA"
      },
      "outputs": [],
      "source": [
        "# from google.colab import drive\n",
        "# drive.mount('/content/drive')"
      ]
    },
    {
      "cell_type": "code",
      "execution_count": 2,
      "metadata": {
        "id": "nl2tU6kL8Ot3"
      },
      "outputs": [],
      "source": [
        "# %tensorflow_version 1.x\n",
        "from time import time\n",
        "from scipy.sparse import csc_matrix\n",
        "import tensorflow as tf\n",
        "import numpy as np\n",
        "import h5py\n",
        "\n",
        "import pickle\n",
        "\n",
        "FIX_LEAKAGE = True\n",
        "TEST_USERS_RATINGS_COUNT = 6"
      ]
    },
    {
      "cell_type": "code",
      "execution_count": 3,
      "metadata": {
        "id": "pcyWCv_WvSKC"
      },
      "outputs": [
        {
          "name": "stdout",
          "output_type": "stream",
          "text": [
            "1.15.0\n"
          ]
        }
      ],
      "source": [
        "print(tf.__version__)"
      ]
    },
    {
      "cell_type": "markdown",
      "metadata": {
        "id": "k4A9uU1WloQ2"
      },
      "source": [
        "# Data Loader Function"
      ]
    },
    {
      "cell_type": "markdown",
      "metadata": {},
      "source": [
        "## Yoav and Yehonatan Addition - Fixing the Data Leakage\n",
        "Split the data into train and test based on the timestamp"
      ]
    },
    {
      "cell_type": "code",
      "execution_count": 4,
      "metadata": {},
      "outputs": [],
      "source": [
        "def train_test_time_split_100k(\n",
        "        ratings,\n",
        "        test_size=0.2,\n",
        "        fix_leakage=True\n",
        " ):\n",
        "    \"\"\"\n",
        "    split the data into training and testing set\n",
        "\n",
        "    parameters:\n",
        "        ratings: the ratings matrix\n",
        "        test_size: the size of the testing set\n",
        "\n",
        "    returns:\n",
        "        the training and testing set\n",
        "    \"\"\"\n",
        "    if fix_leakage:\n",
        "        ratings = ratings[ratings[:,3].argsort()]\n",
        "    test_size = int(len(ratings) * test_size)\n",
        "    train = ratings[:-test_size]\n",
        "    test = ratings[-test_size:]\n",
        "    if fix_leakage:\n",
        "        train_users = set(train[:, 0])\n",
        "        test = test[[test_record[0] in train_users for test_record in test]]\n",
        "    return train, test\n",
        "\n",
        "def train_test_time_split_1m(\n",
        "        ratings,\n",
        "        seed=1234,\n",
        "        fix_leakage=True\n",
        " ):\n",
        "    \"\"\"\n",
        "    split the data into training and testing set\n",
        "\n",
        "    parameters:\n",
        "        ratings: the ratings matrix\n",
        "        test_size: the size of the testing set\n",
        "\n",
        "    returns:\n",
        "        the sorted ratings\n",
        "    \"\"\"\n",
        "    if fix_leakage:\n",
        "        ratings = ratings[(-ratings[:,3]).argsort()]\n",
        "    else:\n",
        "        np.random.seed(seed)\n",
        "        np.random.shuffle(ratings)\n",
        "    return ratings"
      ]
    },
    {
      "cell_type": "markdown",
      "metadata": {},
      "source": [
        "## Continue of original code\n",
        "Adding a call to the function. If the above cell isn't run then it take action"
      ]
    },
    {
      "cell_type": "code",
      "execution_count": 5,
      "metadata": {
        "id": "cq3KEUaVo1o3"
      },
      "outputs": [],
      "source": [
        "def load_data_100k(path='./', delimiter='\\t'):\n",
        "\n",
        "    train = np.loadtxt(path+'movielens_100k_u1.base', skiprows=0, delimiter=delimiter).astype('int32')\n",
        "    test = np.loadtxt(path+'movielens_100k_u1.test', skiprows=0, delimiter=delimiter).astype('int32')\n",
        "    total = np.concatenate((train, test), axis=0)\n",
        "    train, test = train_test_time_split_100k(total, test_size=(len(test) / len(total)), fix_leakage=FIX_LEAKAGE)\n",
        "\n",
        "    n_u = np.unique(total[:,0]).size  # num of users\n",
        "    n_m = np.unique(total[:,1]).size  # num of movies\n",
        "    n_train = train.shape[0]  # num of training ratings\n",
        "    n_test = test.shape[0]  # num of test ratings\n",
        "\n",
        "    train_r = np.zeros((n_m, n_u), dtype='float32')\n",
        "    test_r = np.zeros((n_m, n_u), dtype='float32')\n",
        "\n",
        "    for i in range(n_train):\n",
        "        train_r[train[i,1]-1, train[i,0]-1] = train[i,2]\n",
        "\n",
        "    for i in range(n_test):\n",
        "        test_r[test[i,1]-1, test[i,0]-1] = test[i,2]\n",
        "\n",
        "    train_m = np.greater(train_r, 1e-12).astype('float32')  # masks indicating non-zero entries\n",
        "    test_m = np.greater(test_r, 1e-12).astype('float32')\n",
        "\n",
        "    print('data matrix loaded')\n",
        "    print('num of users: {}'.format(n_u))\n",
        "    print('num of movies: {}'.format(n_m))\n",
        "    print('num of training ratings: {}'.format(n_train))\n",
        "    print('num of test ratings: {}'.format(n_test))\n",
        "\n",
        "    return n_m, n_u, train_r, train_m, test_r, test_m"
      ]
    },
    {
      "cell_type": "code",
      "execution_count": 6,
      "metadata": {
        "id": "P3e8Xg3us8g7"
      },
      "outputs": [],
      "source": [
        "def load_data_1m(path='./', delimiter='::', frac=0.1, seed=1234):\n",
        "\n",
        "    tic = time()\n",
        "    print('reading data...')\n",
        "    data = np.loadtxt(path+'movielens_1m_dataset.dat', skiprows=0, delimiter=delimiter).astype('int32')\n",
        "    data = train_test_time_split_1m(data, seed=seed, fix_leakage=FIX_LEAKAGE)\n",
        "    print('taken', time() - tic, 'seconds')\n",
        "\n",
        "    n_u = np.unique(data[:,0]).size  # num of users\n",
        "    n_m = np.unique(data[:,1]).size  # num of movies\n",
        "    n_r = data.shape[0]  # num of ratings\n",
        "\n",
        "    udict = {}\n",
        "    for i, u in enumerate(np.unique(data[:,0]).tolist()):\n",
        "        udict[u] = i\n",
        "    mdict = {}\n",
        "    for i, m in enumerate(np.unique(data[:,1]).tolist()):\n",
        "        mdict[m] = i\n",
        "\n",
        "    idx = np.arange(n_r)\n",
        "\n",
        "    train_r = np.zeros((n_m, n_u), dtype='float32')\n",
        "    test_r = np.zeros((n_m, n_u), dtype='float32')\n",
        "\n",
        "    training_users = set()\n",
        "    \n",
        "    max_train_time, min_test_time = -1, np.inf\n",
        "    for i in range(n_r - 1, -1, -1):\n",
        "        u_id = data[idx[i], 0]\n",
        "        m_id = data[idx[i], 1]\n",
        "        r = data[idx[i], 2]\n",
        "        timestamp = data[idx[i], 3]\n",
        "\n",
        "        if i < int(frac * n_r): # test set\n",
        "            if u_id not in training_users:\n",
        "                continue\n",
        "            min_test_time = min(min_test_time, timestamp)\n",
        "            test_r[mdict[m_id], udict[u_id]] = r\n",
        "        else: # training set\n",
        "            training_users.add(u_id)\n",
        "            max_train_time = max(max_train_time, timestamp)\n",
        "            train_r[mdict[m_id], udict[u_id]] = r\n",
        "        \n",
        "    print(f\"{max_train_time} < {min_test_time}\")\n",
        "\n",
        "    train_m = np.greater(train_r, 1e-12).astype('float32')  # masks indicating non-zero entries\n",
        "    test_m = np.greater(test_r, 1e-12).astype('float32')\n",
        "\n",
        "    n_train = np.sum(train_m)\n",
        "    n_test = np.sum(test_m)\n",
        "\n",
        "    print('data matrix loaded')\n",
        "    print('num of users: {}'.format(n_u))\n",
        "    print('num of movies: {}'.format(n_m))\n",
        "    print('num of training ratings: {}'.format(n_train))\n",
        "    print('num of test ratings: {}'.format(n_test))\n",
        "\n",
        "    return n_m, n_u, train_r, train_m, test_r, test_m"
      ]
    },
    {
      "cell_type": "code",
      "execution_count": 7,
      "metadata": {
        "id": "7rMjcbLvhtRs"
      },
      "outputs": [],
      "source": [
        "def load_matlab_file(path_file, name_field):\n",
        "    \n",
        "    db = h5py.File(path_file, 'r')\n",
        "    ds = db[name_field]\n",
        "\n",
        "    try:\n",
        "        if 'ir' in ds.keys():\n",
        "            data = np.asarray(ds['data'])\n",
        "            ir   = np.asarray(ds['ir'])\n",
        "            jc   = np.asarray(ds['jc'])\n",
        "            out  = csc_matrix((data, ir, jc)).astype(np.float32)\n",
        "    except AttributeError:\n",
        "        out = np.asarray(ds).astype(np.float32).T\n",
        "\n",
        "    db.close()\n",
        "\n",
        "    return out"
      ]
    },
    {
      "cell_type": "code",
      "execution_count": 8,
      "metadata": {
        "id": "g6pIUrkza2zv"
      },
      "outputs": [],
      "source": [
        "def load_data_monti(path='./'):\n",
        "\n",
        "    M = load_matlab_file(path+'douban_monti_dataset.mat', 'M')\n",
        "    Otraining = load_matlab_file(path+'douban_monti_dataset.mat', 'Otraining') * M\n",
        "    Otest = load_matlab_file(path+'douban_monti_dataset.mat', 'Otest') * M\n",
        "\n",
        "    n_u = M.shape[0]  # num of users\n",
        "    n_m = M.shape[1]  # num of movies\n",
        "    n_train = Otraining[np.where(Otraining)].size  # num of training ratings\n",
        "    n_test = Otest[np.where(Otest)].size  # num of test ratings\n",
        "\n",
        "    train_r = Otraining.T\n",
        "    test_r = Otest.T\n",
        "\n",
        "    train_m = np.greater(train_r, 1e-12).astype('float32')  # masks indicating non-zero entries\n",
        "    test_m = np.greater(test_r, 1e-12).astype('float32')\n",
        "\n",
        "    print('data matrix loaded')\n",
        "    print('num of users: {}'.format(n_u))\n",
        "    print('num of movies: {}'.format(n_m))\n",
        "    print('num of training ratings: {}'.format(n_train))\n",
        "    print('num of test ratings: {}'.format(n_test))\n",
        "\n",
        "    return n_m, n_u, train_r, train_m, test_r, test_m"
      ]
    },
    {
      "cell_type": "markdown",
      "metadata": {
        "id": "E_8kEkg9mlIW"
      },
      "source": [
        "# Load Data"
      ]
    },
    {
      "cell_type": "code",
      "execution_count": 9,
      "metadata": {
        "id": "0fkA1WpmipzF"
      },
      "outputs": [],
      "source": [
        "# Insert the path of a data directory by yourself (e.g., '/content/.../data')\n",
        "# .-^-._.-^-._.-^-._.-^-._.-^-._.-^-._.-^-._.-^-._.-^-._.-^-._\n",
        "data_path = 'data'\n",
        "# .-^-._.-^-._.-^-._.-^-._.-^-._.-^-._.-^-._.-^-._.-^-._.-^-._"
      ]
    },
    {
      "cell_type": "code",
      "execution_count": 10,
      "metadata": {
        "id": "ijlu0lXQioYM"
      },
      "outputs": [],
      "source": [
        "# Select a dataset among 'ML-1M', 'ML-100K', and 'Douban'\n",
        "# .-^-._.-^-._.-^-._.-^-._.-^-._.-^-._.-^-._.-^-._.-^-._.-^-._\n",
        "dataset = 'ML-100K'\n",
        "# .-^-._.-^-._.-^-._.-^-._.-^-._.-^-._.-^-._.-^-._.-^-._.-^-._"
      ]
    },
    {
      "cell_type": "code",
      "execution_count": 11,
      "metadata": {
        "id": "sJqSSY33mgkw"
      },
      "outputs": [
        {
          "name": "stdout",
          "output_type": "stream",
          "text": [
            "reading data...\n",
            "taken 6.246520280838013 seconds\n",
            "978133414 < 978133433\n",
            "data matrix loaded\n",
            "num of users: 6040\n",
            "num of movies: 3706\n",
            "num of training ratings: 900189.0\n",
            "num of test ratings: 95811.0\n"
          ]
        }
      ],
      "source": [
        "# Data Load\n",
        "try:\n",
        "    if dataset == 'ML-100K':\n",
        "        path = data_path + '/MovieLens_100K/'\n",
        "        n_m, n_u, train_r, train_m, test_r, test_m = load_data_100k(path=path, delimiter='\\t')\n",
        "\n",
        "    elif dataset == 'ML-1M':\n",
        "        path = data_path + '/MovieLens_1M/'\n",
        "        n_m, n_u, train_r, train_m, test_r, test_m = load_data_1m(path=path, delimiter='::', frac=0.1, seed=1234)\n",
        "\n",
        "    elif dataset == 'Douban':\n",
        "        path = data_path + '/Douban_monti/'\n",
        "        n_m, n_u, train_r, train_m, test_r, test_m = load_data_monti(path=path)\n",
        "\n",
        "    else:\n",
        "        raise ValueError\n",
        "    \n",
        "    # with open(path + \"mf_prediction.pickle\", \"rb\") as f:\n",
        "    #     mf_prediction = pickle.load(f)\n",
        "\n",
        "    # mf_prediction = tf.convert_to_tensor(mf_prediction.T, dtype=tf.float32)\n",
        "\n",
        "except ValueError:\n",
        "    print('Error: Unable to load data')"
      ]
    },
    {
      "cell_type": "code",
      "execution_count": 12,
      "metadata": {},
      "outputs": [
        {
          "data": {
            "text/plain": [
              "'train_test_union: 6011, train: 6011, test: 1180, train_test_inter: 1180, test_minus_train: 0'"
            ]
          },
          "execution_count": 12,
          "metadata": {},
          "output_type": "execute_result"
        }
      ],
      "source": [
        "train_users_set = set(np.where(np.sum(train_m, axis=0) > 0)[0])\n",
        "test_users_set = set(np.where(np.sum(test_m, axis=0) > 0)[0])\n",
        "str(f\"train_test_union: {len(train_users_set.union(test_users_set))}, train: {len(train_users_set)}, test: {len(test_users_set)}, train_test_inter: {len(train_users_set.intersection(test_users_set))}, test_minus_train: {len(test_users_set - train_users_set)}\",)"
      ]
    },
    {
      "cell_type": "markdown",
      "metadata": {
        "id": "wQMtA9yml-gp"
      },
      "source": [
        "# Hyperparameter Settings"
      ]
    },
    {
      "cell_type": "code",
      "execution_count": 13,
      "metadata": {
        "id": "nGCdp_FlobOK"
      },
      "outputs": [],
      "source": [
        "# Common hyperparameter settings\n",
        "n_hid = 500\n",
        "n_dim = 5\n",
        "n_layers = 2\n",
        "gk_size = 3"
      ]
    },
    {
      "cell_type": "code",
      "execution_count": 14,
      "metadata": {
        "id": "344bwGB0cWXp"
      },
      "outputs": [],
      "source": [
        "# Different hyperparameter settings for each dataset\n",
        "if dataset == 'ML-100K':\n",
        "    lambda_2 = 20.  # l2 regularisation\n",
        "    lambda_s = 0.006\n",
        "    iter_p = 5  # optimisation\n",
        "    iter_f = 5\n",
        "    epoch_p = 30  # training epoch\n",
        "    epoch_f = 60\n",
        "    dot_scale = 1  # scaled dot product\n",
        "\n",
        "elif dataset == 'ML-1M':\n",
        "    lambda_2 = 70.\n",
        "    lambda_s = 0.018\n",
        "    iter_p = 50\n",
        "    iter_f = 10\n",
        "    epoch_p = 20\n",
        "    epoch_f = 30\n",
        "    dot_scale = 0.5\n",
        "\n",
        "elif dataset == 'Douban':\n",
        "    lambda_2 = 10.\n",
        "    lambda_s = 0.022\n",
        "    iter_p = 5\n",
        "    iter_f = 5\n",
        "    epoch_p = 20\n",
        "    epoch_f = 60\n",
        "    dot_scale = 2"
      ]
    },
    {
      "cell_type": "code",
      "execution_count": 15,
      "metadata": {
        "id": "b94aimX3nAMI"
      },
      "outputs": [
        {
          "name": "stdout",
          "output_type": "stream",
          "text": [
            "WARNING:tensorflow:From C:\\Users\\t-yzelinger\\AppData\\Local\\Temp\\ipykernel_15164\\2682195965.py:1: The name tf.placeholder is deprecated. Please use tf.compat.v1.placeholder instead.\n",
            "\n"
          ]
        }
      ],
      "source": [
        "R = tf.placeholder(\"float\", [n_m, n_u])"
      ]
    },
    {
      "cell_type": "markdown",
      "metadata": {
        "id": "5sWtU4-pmDDT"
      },
      "source": [
        "# Network Function"
      ]
    },
    {
      "cell_type": "code",
      "execution_count": 16,
      "metadata": {
        "id": "wX2wREO09zde"
      },
      "outputs": [],
      "source": [
        "def local_kernel(u, v):\n",
        "\n",
        "    dist = tf.norm(u - v, ord=2, axis=2)\n",
        "    hat = tf.maximum(0., 1. - dist**2)\n",
        "\n",
        "    return hat"
      ]
    },
    {
      "cell_type": "code",
      "execution_count": 17,
      "metadata": {
        "id": "c88l9LYr9175"
      },
      "outputs": [],
      "source": [
        "def kernel_layer(x, n_hid=n_hid, n_dim=n_dim, activation=tf.nn.sigmoid, lambda_s=lambda_s, lambda_2=lambda_2, name=''):\n",
        "\n",
        "    with tf.variable_scope(name, reuse=tf.AUTO_REUSE):\n",
        "        W = tf.get_variable('W', [x.shape[1], n_hid])   # w(d) (users(n)*h)\n",
        "        n_in = x.get_shape().as_list()[1]\n",
        "        u = tf.get_variable('u', initializer=tf.random.truncated_normal([n_in, 1, n_dim], 0., 1e-3))\n",
        "        v = tf.get_variable('v', initializer=tf.random.truncated_normal([1, n_hid, n_dim], 0., 1e-3))\n",
        "        b = tf.get_variable('b', [n_hid])\n",
        "\n",
        "    w_hat = local_kernel(u, v)\n",
        "    \n",
        "    sparse_reg = tf.contrib.layers.l2_regularizer(lambda_s)\n",
        "    sparse_reg_term = tf.contrib.layers.apply_regularization(sparse_reg, [w_hat])\n",
        "    \n",
        "    l2_reg = tf.contrib.layers.l2_regularizer(lambda_2)\n",
        "    l2_reg_term = tf.contrib.layers.apply_regularization(l2_reg, [W])\n",
        "\n",
        "    W_eff = W * w_hat  # Local kernelised weight matrix\n",
        "    y = tf.matmul(x, W_eff) + b\n",
        "    y = activation(y)\n",
        "\n",
        "    return y, sparse_reg_term + l2_reg_term"
      ]
    },
    {
      "cell_type": "code",
      "execution_count": 18,
      "metadata": {
        "id": "rlb95FmRVATa"
      },
      "outputs": [],
      "source": [
        "def global_kernel(input, gk_size, dot_scale):\n",
        "\n",
        "    avg_pooling = tf.reduce_mean(input, axis=1)  # Item (axis=1) based average pooling\n",
        "    avg_pooling = tf.reshape(avg_pooling, [1, -1])\n",
        "    n_kernel = avg_pooling.shape[1].value\n",
        "    \n",
        "    conv_kernel = tf.get_variable('conv_kernel', initializer=tf.random.truncated_normal([n_kernel, gk_size**2], stddev=0.1))\n",
        "    gk = tf.matmul(avg_pooling, conv_kernel) * dot_scale  # Scaled dot product\n",
        "    gk = tf.reshape(gk, [gk_size, gk_size, 1, 1])\n",
        "\n",
        "    return gk"
      ]
    },
    {
      "cell_type": "code",
      "execution_count": 19,
      "metadata": {
        "id": "jTLi_65XzIbH"
      },
      "outputs": [],
      "source": [
        "def global_conv(input, W):\n",
        "\n",
        "    input = tf.reshape(input, [1, input.shape[0], input.shape[1], 1])\n",
        "    conv2d = tf.nn.relu(tf.nn.conv2d(input, W, strides=[1,1,1,1], padding='SAME'))\n",
        "\n",
        "    return tf.reshape(conv2d, [conv2d.shape[1], conv2d.shape[2]])"
      ]
    },
    {
      "cell_type": "markdown",
      "metadata": {
        "id": "f8sQCwrSmKG4"
      },
      "source": [
        "# Network Instantiation"
      ]
    },
    {
      "cell_type": "markdown",
      "metadata": {
        "id": "zOtWj1SCo1RW"
      },
      "source": [
        "## Pre-training"
      ]
    },
    {
      "cell_type": "code",
      "execution_count": 20,
      "metadata": {
        "id": "7teUrgWagpW0"
      },
      "outputs": [
        {
          "name": "stdout",
          "output_type": "stream",
          "text": [
            "WARNING:tensorflow:From C:\\Users\\t-yzelinger\\AppData\\Local\\Temp\\ipykernel_15164\\770935157.py:3: The name tf.variable_scope is deprecated. Please use tf.compat.v1.variable_scope instead.\n",
            "\n",
            "WARNING:tensorflow:From C:\\Users\\t-yzelinger\\AppData\\Local\\Temp\\ipykernel_15164\\770935157.py:3: The name tf.AUTO_REUSE is deprecated. Please use tf.compat.v1.AUTO_REUSE instead.\n",
            "\n",
            "WARNING:tensorflow:From C:\\Users\\t-yzelinger\\AppData\\Local\\Temp\\ipykernel_15164\\770935157.py:4: The name tf.get_variable is deprecated. Please use tf.compat.v1.get_variable instead.\n",
            "\n",
            "WARNING:tensorflow:\n",
            "The TensorFlow contrib module will not be included in TensorFlow 2.0.\n",
            "For more information, please see:\n",
            "  * https://github.com/tensorflow/community/blob/master/rfcs/20180907-contrib-sunset.md\n",
            "  * https://github.com/tensorflow/addons\n",
            "  * https://github.com/tensorflow/io (for I/O related ops)\n",
            "If you depend on functionality not listed there, please file an issue.\n",
            "\n",
            "WARNING:tensorflow:From c:\\Users\\t-yzelinger\\AppData\\Local\\anaconda3\\envs\\recsys_venv\\lib\\site-packages\\tensorflow_core\\python\\ops\\math_grad.py:1424: where (from tensorflow.python.ops.array_ops) is deprecated and will be removed in a future version.\n",
            "Instructions for updating:\n",
            "Use tf.where in 2.0, which has the same broadcast rule as np.where\n"
          ]
        }
      ],
      "source": [
        "y = R\n",
        "reg_losses = None\n",
        "\n",
        "for i in range(n_layers):\n",
        "    y, reg_loss = kernel_layer(y, name=str(i))\n",
        "    reg_losses = reg_loss if reg_losses is None else reg_losses + reg_loss\n",
        "\n",
        "pred_p, reg_loss = kernel_layer(y, n_u, activation=tf.identity, name='out')\n",
        "reg_losses = reg_losses + reg_loss\n",
        "\n",
        "# L2 loss\n",
        "diff = train_m * (train_r - pred_p)\n",
        "sqE = tf.nn.l2_loss(diff)\n",
        "loss_p = sqE + reg_losses\n",
        "\n",
        "optimizer_p = tf.contrib.opt.ScipyOptimizerInterface(loss_p, options={'disp': True, 'maxiter': iter_p, 'maxcor': 10}, method='L-BFGS-B')"
      ]
    },
    {
      "cell_type": "markdown",
      "metadata": {
        "id": "4IEBsNhNo4Cj"
      },
      "source": [
        "## Fine-tuning"
      ]
    },
    {
      "cell_type": "code",
      "execution_count": 21,
      "metadata": {
        "id": "OiTXqnN6zLXQ"
      },
      "outputs": [],
      "source": [
        "y = R\n",
        "reg_losses = None\n",
        "\n",
        "for i in range(n_layers):\n",
        "    y, _ = kernel_layer(y, name=str(i))\n",
        "\n",
        "y_dash, _ = kernel_layer(y, n_u, activation=tf.identity, name='out')\n",
        "\n",
        "# y_dash = (y_dash + mf_prediction) / 2\n",
        "\n",
        "gk = global_kernel(y_dash, gk_size, dot_scale)  # Global kernel\n",
        "y_hat = global_conv(train_r, gk)  # Global kernel-based rating matrix\n",
        "\n",
        "for i in range(n_layers):\n",
        "    y_hat, reg_loss = kernel_layer(y_hat, name=str(i))\n",
        "    reg_losses = reg_loss if reg_losses is None else reg_losses + reg_loss\n",
        "\n",
        "pred_f, reg_loss = kernel_layer(y_hat, n_u, activation=tf.identity, name='out')\n",
        "reg_losses = reg_losses + reg_loss\n",
        "\n",
        "# L2 loss\n",
        "diff = train_m * (train_r - pred_f)\n",
        "sqE = tf.nn.l2_loss(diff)\n",
        "loss_f = sqE + reg_losses\n",
        "\n",
        "optimizer_f = tf.contrib.opt.ScipyOptimizerInterface(loss_f, options={'disp': True, 'maxiter': iter_f, 'maxcor': 10}, method='L-BFGS-B')"
      ]
    },
    {
      "cell_type": "markdown",
      "metadata": {
        "id": "sETwz58aK6y6"
      },
      "source": [
        "# Evaluation code"
      ]
    },
    {
      "cell_type": "code",
      "execution_count": 22,
      "metadata": {
        "id": "vyReXxgac3KH"
      },
      "outputs": [],
      "source": [
        "def dcg_k(score_label, k):\n",
        "    dcg, i = 0., 0\n",
        "    for s in score_label:\n",
        "        if i < k:\n",
        "            dcg += (2**s[1]-1) / np.log2(2+i)\n",
        "            i += 1\n",
        "    return dcg"
      ]
    },
    {
      "cell_type": "code",
      "execution_count": 23,
      "metadata": {
        "id": "jwsSR-8ZdGWo"
      },
      "outputs": [],
      "source": [
        "def ndcg_k(y_hat, y, k):\n",
        "    score_label = np.stack([y_hat, y], axis=1).tolist()\n",
        "    score_label = sorted(score_label, key=lambda d:d[0], reverse=True)\n",
        "    score_label_ = sorted(score_label, key=lambda d:d[1], reverse=True)\n",
        "    norm, i = 0., 0\n",
        "    for s in score_label_:\n",
        "        if i < k:\n",
        "            norm += (2**s[1]-1) / np.log2(2+i)\n",
        "            i += 1\n",
        "    dcg = dcg_k(score_label, k)\n",
        "    return dcg / norm"
      ]
    },
    {
      "cell_type": "code",
      "execution_count": 24,
      "metadata": {
        "id": "yy9eQS51pbhj"
      },
      "outputs": [],
      "source": [
        "def call_ndcg(y_hat, y):\n",
        "    ndcg_sum, num = 0, 0\n",
        "    y_hat, y = y_hat.T, y.T\n",
        "    n_users = y.shape[0]\n",
        "\n",
        "    for i in range(n_users):\n",
        "        y_hat_i = y_hat[i][np.where(y[i])]\n",
        "        y_i = y[i][np.where(y[i])]\n",
        "\n",
        "        if y_i.shape[0] < 2:\n",
        "            continue\n",
        "\n",
        "        ndcg_sum += ndcg_k(y_hat_i, y_i, y_i.shape[0])  # user-wise calculation\n",
        "        num += 1\n",
        "\n",
        "    return ndcg_sum / num"
      ]
    },
    {
      "cell_type": "markdown",
      "metadata": {
        "id": "RXXQjeMxmYEC"
      },
      "source": [
        "# Training and Test Loop"
      ]
    },
    {
      "cell_type": "code",
      "execution_count": 25,
      "metadata": {
        "id": "UZ35Zoha-Eue"
      },
      "outputs": [
        {
          "name": "stdout",
          "output_type": "stream",
          "text": [
            "WARNING:tensorflow:From C:\\Users\\t-yzelinger\\AppData\\Local\\Temp\\ipykernel_15164\\922873020.py:5: The name tf.global_variables_initializer is deprecated. Please use tf.compat.v1.global_variables_initializer instead.\n",
            "\n",
            "WARNING:tensorflow:From C:\\Users\\t-yzelinger\\AppData\\Local\\Temp\\ipykernel_15164\\922873020.py:7: The name tf.Session is deprecated. Please use tf.compat.v1.Session instead.\n",
            "\n",
            "INFO:tensorflow:Optimization terminated with:\n",
            "  Message: STOP: TOTAL NO. of ITERATIONS REACHED LIMIT\n",
            "  Objective function value: 464842.406250\n",
            "  Number of iterations: 50\n",
            "  Number of functions evaluations: 54\n",
            ".-^-._.-^-._.-^-._.-^-._.-^-._.-^-._.-^-._.-^-._.-^-._.-^-._.-^-._.-^-._\n",
            "PRE-TRAINING\n",
            "Epoch: 1 test rmse: 0.959707 train rmse: 0.87290984\n",
            "Time: 69.66659235954285 seconds\n",
            "Time cumulative: 69.66659235954285 seconds\n",
            ".-^-._.-^-._.-^-._.-^-._.-^-._.-^-._.-^-._.-^-._.-^-._.-^-._.-^-._.-^-._\n",
            "INFO:tensorflow:Optimization terminated with:\n",
            "  Message: STOP: TOTAL NO. of ITERATIONS REACHED LIMIT\n",
            "  Objective function value: 463700.562500\n",
            "  Number of iterations: 10\n",
            "  Number of functions evaluations: 11\n",
            ".-^-._.-^-._.-^-._.-^-._.-^-._.-^-._.-^-._.-^-._.-^-._.-^-._.-^-._.-^-._\n",
            "FINE-TUNING\n",
            "Epoch: 1 test rmse: 0.95605856 test mae: 0.7404746 test ndcg: 0.8999086896049263\n",
            "Epoch: 1 train rmse: 0.87160033 train mae: 0.6858966 train ndcg: 0.9149931682491846\n",
            "Time: 70.57784485816956 seconds\n",
            "Time cumulative: 140.2444372177124 seconds\n",
            ".-^-._.-^-._.-^-._.-^-._.-^-._.-^-._.-^-._.-^-._.-^-._.-^-._.-^-._.-^-._\n",
            "INFO:tensorflow:Optimization terminated with:\n",
            "  Message: STOP: TOTAL NO. of ITERATIONS REACHED LIMIT\n",
            "  Objective function value: 457033.062500\n",
            "  Number of iterations: 10\n",
            "  Number of functions evaluations: 12\n",
            ".-^-._.-^-._.-^-._.-^-._.-^-._.-^-._.-^-._.-^-._.-^-._.-^-._.-^-._.-^-._\n",
            "FINE-TUNING\n",
            "Epoch: 2 test rmse: 0.93058825 test mae: 0.72374594 test ndcg: 0.9021748201418469\n",
            "Epoch: 2 train rmse: 0.86505353 train mae: 0.6819869 train ndcg: 0.9165431337303616\n",
            "Time: 54.568835496902466 seconds\n",
            "Time cumulative: 194.81327271461487 seconds\n",
            ".-^-._.-^-._.-^-._.-^-._.-^-._.-^-._.-^-._.-^-._.-^-._.-^-._.-^-._.-^-._\n",
            "INFO:tensorflow:Optimization terminated with:\n",
            "  Message: STOP: TOTAL NO. of ITERATIONS REACHED LIMIT\n",
            "  Objective function value: 452412.312500\n",
            "  Number of iterations: 10\n",
            "  Number of functions evaluations: 12\n",
            ".-^-._.-^-._.-^-._.-^-._.-^-._.-^-._.-^-._.-^-._.-^-._.-^-._.-^-._.-^-._\n",
            "FINE-TUNING\n",
            "Epoch: 3 test rmse: 0.92434275 test mae: 0.7191769 test ndcg: 0.9030853700149507\n",
            "Epoch: 3 train rmse: 0.85995764 train mae: 0.6769586 train ndcg: 0.9172222156640983\n",
            "Time: 63.91817808151245 seconds\n",
            "Time cumulative: 258.7314507961273 seconds\n",
            ".-^-._.-^-._.-^-._.-^-._.-^-._.-^-._.-^-._.-^-._.-^-._.-^-._.-^-._.-^-._\n",
            "INFO:tensorflow:Optimization terminated with:\n",
            "  Message: STOP: TOTAL NO. of ITERATIONS REACHED LIMIT\n",
            "  Objective function value: 449440.718750\n",
            "  Number of iterations: 10\n",
            "  Number of functions evaluations: 12\n",
            ".-^-._.-^-._.-^-._.-^-._.-^-._.-^-._.-^-._.-^-._.-^-._.-^-._.-^-._.-^-._\n",
            "FINE-TUNING\n",
            "Epoch: 4 test rmse: 0.9169045 test mae: 0.71547216 test ndcg: 0.9032387352164365\n",
            "Epoch: 4 train rmse: 0.85749155 train mae: 0.67503566 train ndcg: 0.9181122411780307\n",
            "Time: 62.09905385971069 seconds\n",
            "Time cumulative: 320.830504655838 seconds\n",
            ".-^-._.-^-._.-^-._.-^-._.-^-._.-^-._.-^-._.-^-._.-^-._.-^-._.-^-._.-^-._\n",
            "INFO:tensorflow:Optimization terminated with:\n",
            "  Message: STOP: TOTAL NO. of ITERATIONS REACHED LIMIT\n",
            "  Objective function value: 446515.468750\n",
            "  Number of iterations: 10\n",
            "  Number of functions evaluations: 12\n",
            ".-^-._.-^-._.-^-._.-^-._.-^-._.-^-._.-^-._.-^-._.-^-._.-^-._.-^-._.-^-._\n",
            "FINE-TUNING\n",
            "Epoch: 5 test rmse: 0.91482574 test mae: 0.71355253 test ndcg: 0.9034575575990783\n",
            "Epoch: 5 train rmse: 0.854479 train mae: 0.6719417 train ndcg: 0.9186014196402109\n",
            "Time: 60.39625549316406 seconds\n",
            "Time cumulative: 381.2267601490021 seconds\n",
            ".-^-._.-^-._.-^-._.-^-._.-^-._.-^-._.-^-._.-^-._.-^-._.-^-._.-^-._.-^-._\n",
            "INFO:tensorflow:Optimization terminated with:\n",
            "  Message: STOP: TOTAL NO. of ITERATIONS REACHED LIMIT\n",
            "  Objective function value: 444005.906250\n",
            "  Number of iterations: 10\n",
            "  Number of functions evaluations: 12\n",
            ".-^-._.-^-._.-^-._.-^-._.-^-._.-^-._.-^-._.-^-._.-^-._.-^-._.-^-._.-^-._\n",
            "FINE-TUNING\n",
            "Epoch: 6 test rmse: 0.9115884 test mae: 0.7121552 test ndcg: 0.903927935943046\n",
            "Epoch: 6 train rmse: 0.85214156 train mae: 0.670429 train ndcg: 0.9192279858758838\n",
            "Time: 59.537670850753784 seconds\n",
            "Time cumulative: 440.76443099975586 seconds\n",
            ".-^-._.-^-._.-^-._.-^-._.-^-._.-^-._.-^-._.-^-._.-^-._.-^-._.-^-._.-^-._\n",
            "INFO:tensorflow:Optimization terminated with:\n",
            "  Message: STOP: TOTAL NO. of ITERATIONS REACHED LIMIT\n",
            "  Objective function value: 441261.531250\n",
            "  Number of iterations: 10\n",
            "  Number of functions evaluations: 12\n",
            ".-^-._.-^-._.-^-._.-^-._.-^-._.-^-._.-^-._.-^-._.-^-._.-^-._.-^-._.-^-._\n",
            "FINE-TUNING\n",
            "Epoch: 7 test rmse: 0.90965617 test mae: 0.71112555 test ndcg: 0.904735368807372\n",
            "Epoch: 7 train rmse: 0.8499758 train mae: 0.6688423 train ndcg: 0.9200404890215499\n",
            "Time: 58.851120471954346 seconds\n",
            "Time cumulative: 499.6155514717102 seconds\n",
            ".-^-._.-^-._.-^-._.-^-._.-^-._.-^-._.-^-._.-^-._.-^-._.-^-._.-^-._.-^-._\n",
            "INFO:tensorflow:Optimization terminated with:\n",
            "  Message: STOP: TOTAL NO. of ITERATIONS REACHED LIMIT\n",
            "  Objective function value: 438376.562500\n",
            "  Number of iterations: 10\n",
            "  Number of functions evaluations: 12\n",
            ".-^-._.-^-._.-^-._.-^-._.-^-._.-^-._.-^-._.-^-._.-^-._.-^-._.-^-._.-^-._\n",
            "FINE-TUNING\n",
            "Epoch: 8 test rmse: 0.906174 test mae: 0.7090267 test ndcg: 0.9046446888451206\n",
            "Epoch: 8 train rmse: 0.8469762 train mae: 0.666802 train ndcg: 0.9206602204699756\n",
            "Time: 61.16284656524658 seconds\n",
            "Time cumulative: 560.7783980369568 seconds\n",
            ".-^-._.-^-._.-^-._.-^-._.-^-._.-^-._.-^-._.-^-._.-^-._.-^-._.-^-._.-^-._\n",
            "INFO:tensorflow:Optimization terminated with:\n",
            "  Message: STOP: TOTAL NO. of ITERATIONS REACHED LIMIT\n",
            "  Objective function value: 436035.718750\n",
            "  Number of iterations: 10\n",
            "  Number of functions evaluations: 12\n",
            ".-^-._.-^-._.-^-._.-^-._.-^-._.-^-._.-^-._.-^-._.-^-._.-^-._.-^-._.-^-._\n",
            "FINE-TUNING\n",
            "Epoch: 9 test rmse: 0.9062882 test mae: 0.7089857 test ndcg: 0.9055538189086046\n",
            "Epoch: 9 train rmse: 0.84491944 train mae: 0.66484994 train ndcg: 0.9212142167415464\n",
            "Time: 59.084983110427856 seconds\n",
            "Time cumulative: 619.8633811473846 seconds\n",
            ".-^-._.-^-._.-^-._.-^-._.-^-._.-^-._.-^-._.-^-._.-^-._.-^-._.-^-._.-^-._\n",
            "INFO:tensorflow:Optimization terminated with:\n",
            "  Message: STOP: TOTAL NO. of ITERATIONS REACHED LIMIT\n",
            "  Objective function value: 433999.281250\n",
            "  Number of iterations: 10\n",
            "  Number of functions evaluations: 12\n",
            ".-^-._.-^-._.-^-._.-^-._.-^-._.-^-._.-^-._.-^-._.-^-._.-^-._.-^-._.-^-._\n",
            "FINE-TUNING\n",
            "Epoch: 10 test rmse: 0.9041495 test mae: 0.7076562 test ndcg: 0.9058032646138258\n",
            "Epoch: 10 train rmse: 0.8430154 train mae: 0.66354316 train ndcg: 0.9216582300617326\n",
            "Time: 63.693546295166016 seconds\n",
            "Time cumulative: 683.5569274425507 seconds\n",
            ".-^-._.-^-._.-^-._.-^-._.-^-._.-^-._.-^-._.-^-._.-^-._.-^-._.-^-._.-^-._\n",
            "INFO:tensorflow:Optimization terminated with:\n",
            "  Message: STOP: TOTAL NO. of ITERATIONS REACHED LIMIT\n",
            "  Objective function value: 431375.718750\n",
            "  Number of iterations: 10\n",
            "  Number of functions evaluations: 12\n",
            ".-^-._.-^-._.-^-._.-^-._.-^-._.-^-._.-^-._.-^-._.-^-._.-^-._.-^-._.-^-._\n",
            "FINE-TUNING\n",
            "Epoch: 11 test rmse: 0.9042066 test mae: 0.7074906 test ndcg: 0.9060317177387082\n",
            "Epoch: 11 train rmse: 0.84073097 train mae: 0.6613552 train ndcg: 0.9225311923930389\n",
            "Time: 53.25572991371155 seconds\n",
            "Time cumulative: 736.8126573562622 seconds\n",
            ".-^-._.-^-._.-^-._.-^-._.-^-._.-^-._.-^-._.-^-._.-^-._.-^-._.-^-._.-^-._\n",
            "INFO:tensorflow:Optimization terminated with:\n",
            "  Message: STOP: TOTAL NO. of ITERATIONS REACHED LIMIT\n",
            "  Objective function value: 429433.500000\n",
            "  Number of iterations: 10\n",
            "  Number of functions evaluations: 12\n",
            ".-^-._.-^-._.-^-._.-^-._.-^-._.-^-._.-^-._.-^-._.-^-._.-^-._.-^-._.-^-._\n",
            "FINE-TUNING\n",
            "Epoch: 12 test rmse: 0.90381193 test mae: 0.70737725 test ndcg: 0.9061555843364577\n",
            "Epoch: 12 train rmse: 0.8395755 train mae: 0.66065097 train ndcg: 0.9231642605318701\n",
            "Time: 57.4232017993927 seconds\n",
            "Time cumulative: 794.2358591556549 seconds\n",
            ".-^-._.-^-._.-^-._.-^-._.-^-._.-^-._.-^-._.-^-._.-^-._.-^-._.-^-._.-^-._\n",
            "INFO:tensorflow:Optimization terminated with:\n",
            "  Message: STOP: TOTAL NO. of ITERATIONS REACHED LIMIT\n",
            "  Objective function value: 426989.812500\n",
            "  Number of iterations: 10\n",
            "  Number of functions evaluations: 12\n",
            ".-^-._.-^-._.-^-._.-^-._.-^-._.-^-._.-^-._.-^-._.-^-._.-^-._.-^-._.-^-._\n",
            "FINE-TUNING\n",
            "Epoch: 13 test rmse: 0.90253806 test mae: 0.706309 test ndcg: 0.9066177006991364\n",
            "Epoch: 13 train rmse: 0.8367806 train mae: 0.6581912 train ndcg: 0.9237421325869528\n",
            "Time: 60.051239252090454 seconds\n",
            "Time cumulative: 854.2870984077454 seconds\n",
            ".-^-._.-^-._.-^-._.-^-._.-^-._.-^-._.-^-._.-^-._.-^-._.-^-._.-^-._.-^-._\n",
            "INFO:tensorflow:Optimization terminated with:\n",
            "  Message: STOP: TOTAL NO. of ITERATIONS REACHED LIMIT\n",
            "  Objective function value: 424585.250000\n",
            "  Number of iterations: 10\n",
            "  Number of functions evaluations: 13\n",
            ".-^-._.-^-._.-^-._.-^-._.-^-._.-^-._.-^-._.-^-._.-^-._.-^-._.-^-._.-^-._\n",
            "FINE-TUNING\n",
            "Epoch: 14 test rmse: 0.9022174 test mae: 0.7062538 test ndcg: 0.9069562775867024\n",
            "Epoch: 14 train rmse: 0.8356132 train mae: 0.6574457 train ndcg: 0.9247362214635836\n",
            "Time: 69.59235405921936 seconds\n",
            "Time cumulative: 923.8794524669647 seconds\n",
            ".-^-._.-^-._.-^-._.-^-._.-^-._.-^-._.-^-._.-^-._.-^-._.-^-._.-^-._.-^-._\n",
            "INFO:tensorflow:Optimization terminated with:\n",
            "  Message: STOP: TOTAL NO. of ITERATIONS REACHED LIMIT\n",
            "  Objective function value: 422036.875000\n",
            "  Number of iterations: 10\n",
            "  Number of functions evaluations: 12\n",
            ".-^-._.-^-._.-^-._.-^-._.-^-._.-^-._.-^-._.-^-._.-^-._.-^-._.-^-._.-^-._\n",
            "FINE-TUNING\n",
            "Epoch: 15 test rmse: 0.901128 test mae: 0.7051848 test ndcg: 0.9069537434777335\n",
            "Epoch: 15 train rmse: 0.8326011 train mae: 0.654683 train ndcg: 0.9249948906052187\n",
            "Time: 56.727763175964355 seconds\n",
            "Time cumulative: 980.6072156429291 seconds\n",
            ".-^-._.-^-._.-^-._.-^-._.-^-._.-^-._.-^-._.-^-._.-^-._.-^-._.-^-._.-^-._\n",
            "INFO:tensorflow:Optimization terminated with:\n",
            "  Message: STOP: TOTAL NO. of ITERATIONS REACHED LIMIT\n",
            "  Objective function value: 420806.312500\n",
            "  Number of iterations: 10\n",
            "  Number of functions evaluations: 13\n",
            ".-^-._.-^-._.-^-._.-^-._.-^-._.-^-._.-^-._.-^-._.-^-._.-^-._.-^-._.-^-._\n",
            "FINE-TUNING\n",
            "Epoch: 16 test rmse: 0.9004202 test mae: 0.7051424 test ndcg: 0.9072405124529238\n",
            "Epoch: 16 train rmse: 0.8317194 train mae: 0.6543994 train ndcg: 0.9256514204502807\n",
            "Time: 66.43489360809326 seconds\n",
            "Time cumulative: 1047.0421092510223 seconds\n",
            ".-^-._.-^-._.-^-._.-^-._.-^-._.-^-._.-^-._.-^-._.-^-._.-^-._.-^-._.-^-._\n",
            "INFO:tensorflow:Optimization terminated with:\n",
            "  Message: STOP: TOTAL NO. of ITERATIONS REACHED LIMIT\n",
            "  Objective function value: 419407.062500\n",
            "  Number of iterations: 10\n",
            "  Number of functions evaluations: 13\n",
            ".-^-._.-^-._.-^-._.-^-._.-^-._.-^-._.-^-._.-^-._.-^-._.-^-._.-^-._.-^-._\n",
            "FINE-TUNING\n",
            "Epoch: 17 test rmse: 0.900369 test mae: 0.70460755 test ndcg: 0.9078210229072589\n",
            "Epoch: 17 train rmse: 0.8301918 train mae: 0.6527053 train ndcg: 0.9259360462008082\n",
            "Time: 73.3075110912323 seconds\n",
            "Time cumulative: 1120.3496203422546 seconds\n",
            ".-^-._.-^-._.-^-._.-^-._.-^-._.-^-._.-^-._.-^-._.-^-._.-^-._.-^-._.-^-._\n",
            "INFO:tensorflow:Optimization terminated with:\n",
            "  Message: STOP: TOTAL NO. of ITERATIONS REACHED LIMIT\n",
            "  Objective function value: 417982.937500\n",
            "  Number of iterations: 10\n",
            "  Number of functions evaluations: 12\n",
            ".-^-._.-^-._.-^-._.-^-._.-^-._.-^-._.-^-._.-^-._.-^-._.-^-._.-^-._.-^-._\n",
            "FINE-TUNING\n",
            "Epoch: 18 test rmse: 0.9001134 test mae: 0.7045361 test ndcg: 0.9078036004999995\n",
            "Epoch: 18 train rmse: 0.8293261 train mae: 0.65202826 train ndcg: 0.9266634936760388\n",
            "Time: 63.74248123168945 seconds\n",
            "Time cumulative: 1184.092101573944 seconds\n",
            ".-^-._.-^-._.-^-._.-^-._.-^-._.-^-._.-^-._.-^-._.-^-._.-^-._.-^-._.-^-._\n",
            "INFO:tensorflow:Optimization terminated with:\n",
            "  Message: STOP: TOTAL NO. of ITERATIONS REACHED LIMIT\n",
            "  Objective function value: 416411.125000\n",
            "  Number of iterations: 10\n",
            "  Number of functions evaluations: 12\n",
            ".-^-._.-^-._.-^-._.-^-._.-^-._.-^-._.-^-._.-^-._.-^-._.-^-._.-^-._.-^-._\n",
            "FINE-TUNING\n",
            "Epoch: 19 test rmse: 0.8993568 test mae: 0.70393807 test ndcg: 0.9080347706842941\n",
            "Epoch: 19 train rmse: 0.8276141 train mae: 0.6506682 train ndcg: 0.926726316322926\n",
            "Time: 63.97253060340881 seconds\n",
            "Time cumulative: 1248.064632177353 seconds\n",
            ".-^-._.-^-._.-^-._.-^-._.-^-._.-^-._.-^-._.-^-._.-^-._.-^-._.-^-._.-^-._\n",
            "INFO:tensorflow:Optimization terminated with:\n",
            "  Message: STOP: TOTAL NO. of ITERATIONS REACHED LIMIT\n",
            "  Objective function value: 415295.312500\n",
            "  Number of iterations: 10\n",
            "  Number of functions evaluations: 13\n",
            ".-^-._.-^-._.-^-._.-^-._.-^-._.-^-._.-^-._.-^-._.-^-._.-^-._.-^-._.-^-._\n",
            "FINE-TUNING\n",
            "Epoch: 20 test rmse: 0.89911145 test mae: 0.70412254 test ndcg: 0.9082299996533911\n",
            "Epoch: 20 train rmse: 0.8272703 train mae: 0.6508007 train ndcg: 0.927434500300807\n",
            "Time: 62.15284585952759 seconds\n",
            "Time cumulative: 1310.2174780368805 seconds\n",
            ".-^-._.-^-._.-^-._.-^-._.-^-._.-^-._.-^-._.-^-._.-^-._.-^-._.-^-._.-^-._\n",
            "INFO:tensorflow:Optimization terminated with:\n",
            "  Message: STOP: TOTAL NO. of ITERATIONS REACHED LIMIT\n",
            "  Objective function value: 413594.437500\n",
            "  Number of iterations: 10\n",
            "  Number of functions evaluations: 12\n",
            ".-^-._.-^-._.-^-._.-^-._.-^-._.-^-._.-^-._.-^-._.-^-._.-^-._.-^-._.-^-._\n",
            "FINE-TUNING\n",
            "Epoch: 21 test rmse: 0.8982441 test mae: 0.7032726 test ndcg: 0.9080015130407019\n",
            "Epoch: 21 train rmse: 0.8252113 train mae: 0.6489846 train ndcg: 0.92747671796216\n",
            "Time: 68.46540713310242 seconds\n",
            "Time cumulative: 1378.682885169983 seconds\n",
            ".-^-._.-^-._.-^-._.-^-._.-^-._.-^-._.-^-._.-^-._.-^-._.-^-._.-^-._.-^-._\n",
            "INFO:tensorflow:Optimization terminated with:\n",
            "  Message: STOP: TOTAL NO. of ITERATIONS REACHED LIMIT\n",
            "  Objective function value: 412755.500000\n",
            "  Number of iterations: 10\n",
            "  Number of functions evaluations: 13\n",
            ".-^-._.-^-._.-^-._.-^-._.-^-._.-^-._.-^-._.-^-._.-^-._.-^-._.-^-._.-^-._\n",
            "FINE-TUNING\n",
            "Epoch: 22 test rmse: 0.8988106 test mae: 0.70327985 test ndcg: 0.908098135504726\n",
            "Epoch: 22 train rmse: 0.824949 train mae: 0.64867616 train ndcg: 0.9279745515312683\n",
            "Time: 76.59802103042603 seconds\n",
            "Time cumulative: 1455.280906200409 seconds\n",
            ".-^-._.-^-._.-^-._.-^-._.-^-._.-^-._.-^-._.-^-._.-^-._.-^-._.-^-._.-^-._\n",
            "INFO:tensorflow:Optimization terminated with:\n",
            "  Message: STOP: TOTAL NO. of ITERATIONS REACHED LIMIT\n",
            "  Objective function value: 411344.031250\n",
            "  Number of iterations: 10\n",
            "  Number of functions evaluations: 13\n",
            ".-^-._.-^-._.-^-._.-^-._.-^-._.-^-._.-^-._.-^-._.-^-._.-^-._.-^-._.-^-._\n",
            "FINE-TUNING\n",
            "Epoch: 23 test rmse: 0.8979587 test mae: 0.70276254 test ndcg: 0.908361813552133\n",
            "Epoch: 23 train rmse: 0.8234314 train mae: 0.6471135 train ndcg: 0.9283422043004328\n",
            "Time: 68.49245047569275 seconds\n",
            "Time cumulative: 1523.7733566761017 seconds\n",
            ".-^-._.-^-._.-^-._.-^-._.-^-._.-^-._.-^-._.-^-._.-^-._.-^-._.-^-._.-^-._\n",
            "INFO:tensorflow:Optimization terminated with:\n",
            "  Message: STOP: TOTAL NO. of ITERATIONS REACHED LIMIT\n",
            "  Objective function value: 410485.500000\n",
            "  Number of iterations: 10\n",
            "  Number of functions evaluations: 13\n",
            ".-^-._.-^-._.-^-._.-^-._.-^-._.-^-._.-^-._.-^-._.-^-._.-^-._.-^-._.-^-._\n",
            "FINE-TUNING\n",
            "Epoch: 24 test rmse: 0.897365 test mae: 0.7026202 test ndcg: 0.9081749965703106\n",
            "Epoch: 24 train rmse: 0.82261205 train mae: 0.64700514 train ndcg: 0.9286312068169587\n",
            "Time: 66.11069226264954 seconds\n",
            "Time cumulative: 1589.8840489387512 seconds\n",
            ".-^-._.-^-._.-^-._.-^-._.-^-._.-^-._.-^-._.-^-._.-^-._.-^-._.-^-._.-^-._\n",
            "INFO:tensorflow:Optimization terminated with:\n",
            "  Message: STOP: TOTAL NO. of ITERATIONS REACHED LIMIT\n",
            "  Objective function value: 409637.093750\n",
            "  Number of iterations: 10\n",
            "  Number of functions evaluations: 14\n",
            ".-^-._.-^-._.-^-._.-^-._.-^-._.-^-._.-^-._.-^-._.-^-._.-^-._.-^-._.-^-._\n",
            "FINE-TUNING\n",
            "Epoch: 25 test rmse: 0.8973242 test mae: 0.7022972 test ndcg: 0.9082319491744283\n",
            "Epoch: 25 train rmse: 0.82183254 train mae: 0.64580554 train ndcg: 0.9287180107433012\n",
            "Time: 74.69341707229614 seconds\n",
            "Time cumulative: 1664.5774660110474 seconds\n",
            ".-^-._.-^-._.-^-._.-^-._.-^-._.-^-._.-^-._.-^-._.-^-._.-^-._.-^-._.-^-._\n",
            "INFO:tensorflow:Optimization terminated with:\n",
            "  Message: STOP: TOTAL NO. of ITERATIONS REACHED LIMIT\n",
            "  Objective function value: 408715.937500\n",
            "  Number of iterations: 10\n",
            "  Number of functions evaluations: 12\n",
            ".-^-._.-^-._.-^-._.-^-._.-^-._.-^-._.-^-._.-^-._.-^-._.-^-._.-^-._.-^-._\n",
            "FINE-TUNING\n",
            "Epoch: 26 test rmse: 0.89726275 test mae: 0.70224434 test ndcg: 0.9084177244136847\n",
            "Epoch: 26 train rmse: 0.8209526 train mae: 0.6452967 train ndcg: 0.9290237177977033\n",
            "Time: 56.64819955825806 seconds\n",
            "Time cumulative: 1721.2256655693054 seconds\n",
            ".-^-._.-^-._.-^-._.-^-._.-^-._.-^-._.-^-._.-^-._.-^-._.-^-._.-^-._.-^-._\n",
            "INFO:tensorflow:Optimization terminated with:\n",
            "  Message: STOP: TOTAL NO. of ITERATIONS REACHED LIMIT\n",
            "  Objective function value: 407755.812500\n",
            "  Number of iterations: 10\n",
            "  Number of functions evaluations: 13\n",
            ".-^-._.-^-._.-^-._.-^-._.-^-._.-^-._.-^-._.-^-._.-^-._.-^-._.-^-._.-^-._\n",
            "FINE-TUNING\n",
            "Epoch: 27 test rmse: 0.89680475 test mae: 0.7019965 test ndcg: 0.908714028204172\n",
            "Epoch: 27 train rmse: 0.82020223 train mae: 0.644615 train ndcg: 0.9294247034237034\n",
            "Time: 69.67624878883362 seconds\n",
            "Time cumulative: 1790.901914358139 seconds\n",
            ".-^-._.-^-._.-^-._.-^-._.-^-._.-^-._.-^-._.-^-._.-^-._.-^-._.-^-._.-^-._\n",
            "INFO:tensorflow:Optimization terminated with:\n",
            "  Message: STOP: TOTAL NO. of ITERATIONS REACHED LIMIT\n",
            "  Objective function value: 406841.281250\n",
            "  Number of iterations: 10\n",
            "  Number of functions evaluations: 12\n",
            ".-^-._.-^-._.-^-._.-^-._.-^-._.-^-._.-^-._.-^-._.-^-._.-^-._.-^-._.-^-._\n",
            "FINE-TUNING\n",
            "Epoch: 28 test rmse: 0.89643323 test mae: 0.7017174 test ndcg: 0.9082612170687456\n",
            "Epoch: 28 train rmse: 0.8193886 train mae: 0.64405674 train ndcg: 0.9297084842561372\n",
            "Time: 60.11206030845642 seconds\n",
            "Time cumulative: 1851.0139746665955 seconds\n",
            ".-^-._.-^-._.-^-._.-^-._.-^-._.-^-._.-^-._.-^-._.-^-._.-^-._.-^-._.-^-._\n",
            "INFO:tensorflow:Optimization terminated with:\n",
            "  Message: STOP: TOTAL NO. of ITERATIONS REACHED LIMIT\n",
            "  Objective function value: 406207.625000\n",
            "  Number of iterations: 10\n",
            "  Number of functions evaluations: 16\n",
            ".-^-._.-^-._.-^-._.-^-._.-^-._.-^-._.-^-._.-^-._.-^-._.-^-._.-^-._.-^-._\n",
            "FINE-TUNING\n",
            "Epoch: 29 test rmse: 0.896338 test mae: 0.7017737 test ndcg: 0.9088927733917687\n",
            "Epoch: 29 train rmse: 0.8188193 train mae: 0.6438329 train ndcg: 0.9297149890223748\n",
            "Time: 85.24009299278259 seconds\n",
            "Time cumulative: 1936.254067659378 seconds\n",
            ".-^-._.-^-._.-^-._.-^-._.-^-._.-^-._.-^-._.-^-._.-^-._.-^-._.-^-._.-^-._\n",
            "INFO:tensorflow:Optimization terminated with:\n",
            "  Message: STOP: TOTAL NO. of ITERATIONS REACHED LIMIT\n",
            "  Objective function value: 405198.625000\n",
            "  Number of iterations: 10\n",
            "  Number of functions evaluations: 13\n",
            ".-^-._.-^-._.-^-._.-^-._.-^-._.-^-._.-^-._.-^-._.-^-._.-^-._.-^-._.-^-._\n",
            "FINE-TUNING\n",
            "Epoch: 30 test rmse: 0.89661574 test mae: 0.7016297 test ndcg: 0.9086244752874142\n",
            "Epoch: 30 train rmse: 0.8179831 train mae: 0.6424872 train ndcg: 0.9301952608788426\n",
            "Time: 67.68150925636292 seconds\n",
            "Time cumulative: 2003.935576915741 seconds\n",
            ".-^-._.-^-._.-^-._.-^-._.-^-._.-^-._.-^-._.-^-._.-^-._.-^-._.-^-._.-^-._\n"
          ]
        }
      ],
      "source": [
        "best_rmse_ep, best_mae_ep, best_ndcg_ep = 0, 0, 0\n",
        "best_rmse, best_mae, best_ndcg = float(\"inf\"), float(\"inf\"), 0\n",
        "\n",
        "time_cumulative = 0\n",
        "init = tf.global_variables_initializer()\n",
        "\n",
        "with tf.Session() as sess:\n",
        "    sess.run(init)\n",
        "    for i in range(epoch_p):\n",
        "        tic = time()\n",
        "        optimizer_p.minimize(sess, feed_dict={R: train_r})\n",
        "        pre = sess.run(pred_p, feed_dict={R: train_r})\n",
        "\n",
        "        t = time() - tic\n",
        "        time_cumulative += t\n",
        "        \n",
        "        error = (test_m * (np.clip(pre, 1., 5.) - test_r) ** 2).sum() / test_m.sum()  # test error\n",
        "        test_rmse = np.sqrt(error)\n",
        "\n",
        "        error_train = (train_m * (np.clip(pre, 1., 5.) - train_r) ** 2).sum() / train_m.sum()  # train error\n",
        "        train_rmse = np.sqrt(error_train)\n",
        "\n",
        "        print('.-^-._' * 12)\n",
        "        print('PRE-TRAINING')\n",
        "        print('Epoch:', i+1, 'test rmse:', test_rmse, 'train rmse:', train_rmse)\n",
        "        print('Time:', t, 'seconds')\n",
        "        print('Time cumulative:', time_cumulative, 'seconds')\n",
        "        print('.-^-._' * 12)\n",
        "        break\n",
        "\n",
        "    for i in range(epoch_f):\n",
        "        tic = time()\n",
        "        optimizer_f.minimize(sess, feed_dict={R: train_r})\n",
        "        pre = sess.run(pred_f, feed_dict={R: train_r})\n",
        "\n",
        "        t = time() - tic\n",
        "        time_cumulative += t\n",
        "        \n",
        "        error = (test_m * (np.clip(pre, 1., 5.) - test_r) ** 2).sum() / test_m.sum()  # test error\n",
        "        test_rmse = np.sqrt(error)\n",
        "\n",
        "        error_train = (train_m * (np.clip(pre, 1., 5.) - train_r) ** 2).sum() / train_m.sum()  # train error\n",
        "        train_rmse = np.sqrt(error_train)\n",
        "\n",
        "        test_mae = (test_m * np.abs(np.clip(pre, 1., 5.) - test_r)).sum() / test_m.sum()\n",
        "        train_mae = (train_m * np.abs(np.clip(pre, 1., 5.) - train_r)).sum() / train_m.sum()\n",
        "\n",
        "        test_ndcg = call_ndcg(np.clip(pre, 1., 5.), test_r)\n",
        "        train_ndcg = call_ndcg(np.clip(pre, 1., 5.), train_r)\n",
        "\n",
        "        if test_rmse < best_rmse:\n",
        "            best_rmse = test_rmse\n",
        "            best_rmse_ep = i+1\n",
        "\n",
        "        if test_mae < best_mae:\n",
        "            best_mae = test_mae\n",
        "            best_mae_ep = i+1\n",
        "\n",
        "        if best_ndcg < test_ndcg:\n",
        "            best_ndcg = test_ndcg\n",
        "            best_ndcg_ep = i+1\n",
        "\n",
        "        print('.-^-._' * 12)\n",
        "        print('FINE-TUNING')\n",
        "        print('Epoch:', i+1, 'test rmse:', test_rmse, 'test mae:', test_mae, 'test ndcg:', test_ndcg)\n",
        "        print('Epoch:', i+1, 'train rmse:', train_rmse, 'train mae:', train_mae, 'train ndcg:', train_ndcg)\n",
        "        print('Time:', t, 'seconds')\n",
        "        print('Time cumulative:', time_cumulative, 'seconds')\n",
        "        print('.-^-._' * 12)"
      ]
    },
    {
      "cell_type": "code",
      "execution_count": 26,
      "metadata": {
        "id": "CTi_PdXJqTjh"
      },
      "outputs": [
        {
          "name": "stdout",
          "output_type": "stream",
          "text": [
            "Epoch: 29  best rmse: 0.896338\n",
            "Epoch: 30  best mae: 0.7016297\n",
            "Epoch: 29  best ndcg: 0.9088927733917687\n"
          ]
        }
      ],
      "source": [
        "# Final result\n",
        "print('Epoch:', best_rmse_ep, ' best rmse:', best_rmse)\n",
        "print('Epoch:', best_mae_ep, ' best mae:', best_mae)\n",
        "print('Epoch:', best_ndcg_ep, ' best ndcg:', best_ndcg)"
      ]
    }
  ],
  "metadata": {
    "accelerator": "GPU",
    "colab": {
      "collapsed_sections": [],
      "name": "GLocal_K.ipynb",
      "provenance": []
    },
    "kernelspec": {
      "display_name": "recsys_venv",
      "language": "python",
      "name": "python3"
    },
    "language_info": {
      "codemirror_mode": {
        "name": "ipython",
        "version": 3
      },
      "file_extension": ".py",
      "mimetype": "text/x-python",
      "name": "python",
      "nbconvert_exporter": "python",
      "pygments_lexer": "ipython3",
      "version": "3.7.12"
    }
  },
  "nbformat": 4,
  "nbformat_minor": 0
}

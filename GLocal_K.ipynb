{
  "cells": [
    {
      "cell_type": "code",
      "execution_count": 1,
      "metadata": {
        "id": "ty3gYQgtnwFA"
      },
      "outputs": [],
      "source": [
        "# from google.colab import drive\n",
        "# drive.mount('/content/drive')"
      ]
    },
    {
      "cell_type": "code",
      "execution_count": 2,
      "metadata": {
        "id": "nl2tU6kL8Ot3"
      },
      "outputs": [],
      "source": [
        "# %tensorflow_version 1.x\n",
        "from time import time\n",
        "from scipy.sparse import csc_matrix\n",
        "import tensorflow as tf\n",
        "import numpy as np\n",
        "import h5py\n",
        "\n",
        "import pickle\n",
        "\n",
        "FIX_LEAKAGE = True"
      ]
    },
    {
      "cell_type": "code",
      "execution_count": 3,
      "metadata": {
        "id": "pcyWCv_WvSKC"
      },
      "outputs": [
        {
          "name": "stdout",
          "output_type": "stream",
          "text": [
            "1.15.0\n"
          ]
        }
      ],
      "source": [
        "print(tf.__version__)"
      ]
    },
    {
      "cell_type": "markdown",
      "metadata": {
        "id": "k4A9uU1WloQ2"
      },
      "source": [
        "# Data Loader Function"
      ]
    },
    {
      "cell_type": "markdown",
      "metadata": {},
      "source": [
        "## Yoav and Yehonatan Addition - Fixing the Data Leakage\n",
        "Split the data into train and test based on the timestamp"
      ]
    },
    {
      "cell_type": "code",
      "execution_count": 4,
      "metadata": {},
      "outputs": [],
      "source": [
        "def train_test_time_split_100k(\n",
        "        ratings,\n",
        "        test_size=0.2,\n",
        "        fix_leakage=True\n",
        " ):\n",
        "    \"\"\"\n",
        "    split the data into training and testing set\n",
        "\n",
        "    parameters:\n",
        "        ratings: the ratings matrix\n",
        "        test_size: the size of the testing set\n",
        "\n",
        "    returns:\n",
        "        the training and testing set\n",
        "    \"\"\"\n",
        "    if fix_leakage:\n",
        "        ratings = ratings[ratings[:,3].argsort()]\n",
        "    test_size = int(len(ratings) * test_size)\n",
        "    train = ratings[:-test_size]\n",
        "    test = ratings[-test_size:]\n",
        "    if fix_leakage:\n",
        "        train_users, train_items = set(train[:, 0]), set(train[:, 1])\n",
        "        test = test[[(test_record[0] in train_users and test_record[1] in train_items) for test_record in test]]\n",
        "        user_id_dict, item_id_dict = {}, {}\n",
        "        for i, user_id in enumerate(np.unique(train[:,0]).tolist()):\n",
        "            user_id_dict[user_id] = i\n",
        "        for i, item_id in enumerate(np.unique(train[:,1]).tolist()):\n",
        "            item_id_dict[item_id] = i\n",
        "        train = np.array([(user_id_dict[record[0]], item_id_dict[record[1]], record[2], record[3]) for record in train])\n",
        "        test = np.array([(user_id_dict[record[0]], item_id_dict[record[1]], record[2], record[3]) for record in test])\n",
        "    return train, test\n",
        "\n",
        "def train_test_time_split_1m(\n",
        "        ratings,\n",
        "        seed=1234,\n",
        "        fix_leakage=True\n",
        " ):\n",
        "    \"\"\"\n",
        "    split the data into training and testing set\n",
        "\n",
        "    parameters:\n",
        "        ratings: the ratings matrix\n",
        "        test_size: the size of the testing set\n",
        "\n",
        "    returns:\n",
        "        the sorted ratings\n",
        "    \"\"\"\n",
        "    if fix_leakage:\n",
        "        ratings = ratings[(-ratings[:,3]).argsort()]\n",
        "    else:\n",
        "        np.random.seed(seed)\n",
        "        np.random.shuffle(ratings)\n",
        "    return ratings"
      ]
    },
    {
      "cell_type": "markdown",
      "metadata": {},
      "source": [
        "## Continue of original code\n",
        "Adding a call to the function. If the above cell isn't run then it take action"
      ]
    },
    {
      "cell_type": "code",
      "execution_count": 5,
      "metadata": {
        "id": "cq3KEUaVo1o3"
      },
      "outputs": [],
      "source": [
        "def load_data_100k(path='./', delimiter='\\t'):\n",
        "\n",
        "    train = np.loadtxt(path+'movielens_100k_u1.base', skiprows=0, delimiter=delimiter).astype('int32')\n",
        "    test = np.loadtxt(path+'movielens_100k_u1.test', skiprows=0, delimiter=delimiter).astype('int32')\n",
        "    total = np.concatenate((train, test), axis=0)\n",
        "    train, test = train_test_time_split_100k(total, test_size=(len(test) / len(total)), fix_leakage=FIX_LEAKAGE)\n",
        "    n_u = np.unique(train[:,0]).size  # num of users\n",
        "    n_m = np.unique(train[:,1]).size  # num of movies\n",
        "    n_train = train.shape[0]  # num of training ratings\n",
        "    n_test = test.shape[0]  # num of test ratings\n",
        "\n",
        "    train_r = np.zeros((n_m, n_u), dtype='float32')\n",
        "    test_r = np.zeros((n_m, n_u), dtype='float32')\n",
        "\n",
        "    for i in range(n_train):\n",
        "        train_r[train[i,1]-1, train[i,0]-1] = train[i,2]\n",
        "\n",
        "    for i in range(n_test):\n",
        "        test_r[test[i,1]-1, test[i,0]-1] = test[i,2]\n",
        "\n",
        "    train_m = np.greater(train_r, 1e-12).astype('float32')  # masks indicating non-zero entries\n",
        "    test_m = np.greater(test_r, 1e-12).astype('float32')\n",
        "\n",
        "    print('data matrix loaded')\n",
        "    print('num of users: {}'.format(n_u))\n",
        "    print('num of movies: {}'.format(n_m))\n",
        "    print('num of training ratings: {}'.format(n_train))\n",
        "    print('num of test ratings: {}'.format(n_test))\n",
        "\n",
        "    return n_m, n_u, train_r, train_m, test_r, test_m"
      ]
    },
    {
      "cell_type": "code",
      "execution_count": 6,
      "metadata": {
        "id": "P3e8Xg3us8g7"
      },
      "outputs": [],
      "source": [
        "def load_data_1m(path='./', delimiter='::', frac=0.1, seed=1234):\n",
        "\n",
        "    tic = time()\n",
        "    print('reading data...')\n",
        "    data = np.loadtxt(path+'movielens_1m_dataset.dat', skiprows=0, delimiter=delimiter).astype('int32')\n",
        "    data = train_test_time_split_1m(data, seed=seed, fix_leakage=FIX_LEAKAGE)\n",
        "    print('taken', time() - tic, 'seconds')\n",
        "\n",
        "    n_u = np.unique(data[:,0]).size  # num of users\n",
        "    n_m = np.unique(data[:,1]).size  # num of movies\n",
        "    n_r = data.shape[0]  # num of ratings\n",
        "\n",
        "    train_r = np.zeros((n_m, n_u), dtype='float32')\n",
        "    test_r = np.zeros((n_m, n_u), dtype='float32')\n",
        "\n",
        "    udict, mdict = {}, {}\n",
        "    \n",
        "    max_train_time, min_test_time = -1, np.inf\n",
        "    for i in range(n_r - 1, -1, -1):\n",
        "        u_id, m_id, r, timestamp = data[i]\n",
        "\n",
        "        if i < int(frac * n_r): # test set\n",
        "            if u_id in udict and m_id in mdict:\n",
        "                min_test_time = min(min_test_time, timestamp)\n",
        "                test_r[mdict[m_id], udict[u_id]] = r\n",
        "        else: # training set\n",
        "            if u_id not in udict:\n",
        "                udict[u_id] = len(udict)\n",
        "            if m_id not in mdict:\n",
        "                mdict[m_id] = len(mdict)\n",
        "            max_train_time = max(max_train_time, timestamp)\n",
        "            train_r[mdict[m_id], udict[u_id]] = r\n",
        "\n",
        "    assert max_train_time < min_test_time, f\"{max_train_time} < {min_test_time}\"\n",
        "\n",
        "    n_u, n_m = len(udict), len(mdict)\n",
        "    train_r, test_r = train_r[:n_m, :n_u], test_r[:n_m, :n_u]\n",
        "\n",
        "    train_m = np.greater(train_r, 1e-12).astype('float32')  # masks indicating non-zero entries\n",
        "    test_m = np.greater(test_r, 1e-12).astype('float32')\n",
        "\n",
        "    n_train = np.sum(train_m, dtype='int32')\n",
        "    n_test = np.sum(test_m, dtype='int32')\n",
        "\n",
        "    print('data matrix loaded')\n",
        "    print('num of users: {}'.format(n_u))\n",
        "    print('num of movies: {}'.format(n_m))\n",
        "    print('num of training ratings: {}'.format(n_train))\n",
        "    print('num of test ratings: {}'.format(n_test))\n",
        "\n",
        "    return n_m, n_u, train_r, train_m, test_r, test_m"
      ]
    },
    {
      "cell_type": "code",
      "execution_count": 7,
      "metadata": {
        "id": "7rMjcbLvhtRs"
      },
      "outputs": [],
      "source": [
        "def load_matlab_file(path_file, name_field):\n",
        "    \n",
        "    db = h5py.File(path_file, 'r')\n",
        "    ds = db[name_field]\n",
        "\n",
        "    try:\n",
        "        if 'ir' in ds.keys():\n",
        "            data = np.asarray(ds['data'])\n",
        "            ir   = np.asarray(ds['ir'])\n",
        "            jc   = np.asarray(ds['jc'])\n",
        "            out  = csc_matrix((data, ir, jc)).astype(np.float32)\n",
        "    except AttributeError:\n",
        "        out = np.asarray(ds).astype(np.float32).T\n",
        "\n",
        "    db.close()\n",
        "\n",
        "    return out"
      ]
    },
    {
      "cell_type": "code",
      "execution_count": 8,
      "metadata": {
        "id": "g6pIUrkza2zv"
      },
      "outputs": [],
      "source": [
        "def load_data_monti(path='./'):\n",
        "\n",
        "    M = load_matlab_file(path+'douban_monti_dataset.mat', 'M')\n",
        "    Otraining = load_matlab_file(path+'douban_monti_dataset.mat', 'Otraining') * M\n",
        "    Otest = load_matlab_file(path+'douban_monti_dataset.mat', 'Otest') * M\n",
        "\n",
        "    n_u = M.shape[0]  # num of users\n",
        "    n_m = M.shape[1]  # num of movies\n",
        "    n_train = Otraining[np.where(Otraining)].size  # num of training ratings\n",
        "    n_test = Otest[np.where(Otest)].size  # num of test ratings\n",
        "\n",
        "    train_r = Otraining.T\n",
        "    test_r = Otest.T\n",
        "\n",
        "    train_m = np.greater(train_r, 1e-12).astype('float32')  # masks indicating non-zero entries\n",
        "    test_m = np.greater(test_r, 1e-12).astype('float32')\n",
        "\n",
        "    print('data matrix loaded')\n",
        "    print('num of users: {}'.format(n_u))\n",
        "    print('num of movies: {}'.format(n_m))\n",
        "    print('num of training ratings: {}'.format(n_train))\n",
        "    print('num of test ratings: {}'.format(n_test))\n",
        "\n",
        "    return n_m, n_u, train_r, train_m, test_r, test_m"
      ]
    },
    {
      "cell_type": "markdown",
      "metadata": {
        "id": "E_8kEkg9mlIW"
      },
      "source": [
        "# Load Data"
      ]
    },
    {
      "cell_type": "code",
      "execution_count": 9,
      "metadata": {
        "id": "0fkA1WpmipzF"
      },
      "outputs": [],
      "source": [
        "# Insert the path of a data directory by yourself (e.g., '/content/.../data')\n",
        "# .-^-._.-^-._.-^-._.-^-._.-^-._.-^-._.-^-._.-^-._.-^-._.-^-._\n",
        "data_path = 'data'\n",
        "# .-^-._.-^-._.-^-._.-^-._.-^-._.-^-._.-^-._.-^-._.-^-._.-^-._"
      ]
    },
    {
      "cell_type": "code",
      "execution_count": 10,
      "metadata": {
        "id": "ijlu0lXQioYM"
      },
      "outputs": [],
      "source": [
        "# Select a dataset among 'ML-1M', 'ML-100K', and 'Douban'\n",
        "# .-^-._.-^-._.-^-._.-^-._.-^-._.-^-._.-^-._.-^-._.-^-._.-^-._\n",
        "dataset = 'ML-1M'\n",
        "# .-^-._.-^-._.-^-._.-^-._.-^-._.-^-._.-^-._.-^-._.-^-._.-^-._"
      ]
    },
    {
      "cell_type": "code",
      "execution_count": 11,
      "metadata": {
        "id": "sJqSSY33mgkw"
      },
      "outputs": [
        {
          "name": "stdout",
          "output_type": "stream",
          "text": [
            "reading data...\n",
            "taken 6.3821399211883545 seconds\n",
            "data matrix loaded\n",
            "num of users: 6011\n",
            "num of movies: 3678\n",
            "num of training ratings: 900189\n",
            "num of test ratings: 95722\n",
            "matrix factorization prediction loaded\n"
          ]
        }
      ],
      "source": [
        "# Data Load\n",
        "try:\n",
        "    if dataset == 'ML-100K':\n",
        "        path = data_path + '/MovieLens_100K/'\n",
        "        n_m, n_u, train_r, train_m, test_r, test_m = load_data_100k(path=path, delimiter='\\t')\n",
        "\n",
        "    elif dataset == 'ML-1M':\n",
        "        path = data_path + '/MovieLens_1M/'\n",
        "        n_m, n_u, train_r, train_m, test_r, test_m = load_data_1m(path=path, delimiter='::', frac=0.1, seed=1234)\n",
        "\n",
        "    elif dataset == 'Douban':\n",
        "        path = data_path + '/Douban_monti/'\n",
        "        n_m, n_u, train_r, train_m, test_r, test_m = load_data_monti(path=path)\n",
        "\n",
        "    else:\n",
        "        raise ValueError\n",
        "    \n",
        "    with open(path + \"mf_prediction.pickle\", \"rb\") as f:\n",
        "        mf_prediction = pickle.load(f)\n",
        "\n",
        "    mf_prediction = tf.convert_to_tensor(mf_prediction.T, dtype=tf.float32)\n",
        "    print(\"matrix factorization prediction loaded\")\n",
        "\n",
        "except ValueError as e:\n",
        "    print(e)\n",
        "    print('Error: Unable to load data')"
      ]
    },
    {
      "cell_type": "code",
      "execution_count": 12,
      "metadata": {},
      "outputs": [
        {
          "data": {
            "text/plain": [
              "'train_test_union: 6011, train: 6011, test: 1179, train_test_inter: 1179, test_minus_train: 0'"
            ]
          },
          "execution_count": 12,
          "metadata": {},
          "output_type": "execute_result"
        }
      ],
      "source": [
        "# Verify no cold start users in test set\n",
        "train_users_set = set(np.where(np.sum(train_m, axis=0) > 0)[0])\n",
        "test_users_set = set(np.where(np.sum(test_m, axis=0) > 0)[0])\n",
        "str(f\"train_test_union: {len(train_users_set.union(test_users_set))}, train: {len(train_users_set)}, test: {len(test_users_set)}, train_test_inter: {len(train_users_set.intersection(test_users_set))}, test_minus_train: {len(test_users_set - train_users_set)}\",)"
      ]
    },
    {
      "cell_type": "markdown",
      "metadata": {
        "id": "wQMtA9yml-gp"
      },
      "source": [
        "# Hyperparameter Settings"
      ]
    },
    {
      "cell_type": "code",
      "execution_count": 13,
      "metadata": {
        "id": "nGCdp_FlobOK"
      },
      "outputs": [],
      "source": [
        "# Common hyperparameter settings\n",
        "n_hid = 500\n",
        "n_dim = 5\n",
        "n_layers = 2\n",
        "gk_size = 3"
      ]
    },
    {
      "cell_type": "code",
      "execution_count": 14,
      "metadata": {
        "id": "344bwGB0cWXp"
      },
      "outputs": [],
      "source": [
        "# Different hyperparameter settings for each dataset\n",
        "if dataset == 'ML-100K':\n",
        "    lambda_2 = 20.  # l2 regularisation\n",
        "    lambda_s = 0.006\n",
        "    iter_p = 5  # optimisation\n",
        "    iter_f = 5\n",
        "    epoch_p = 30  # training epoch\n",
        "    epoch_f = 60\n",
        "    dot_scale = 1  # scaled dot product\n",
        "\n",
        "elif dataset == 'ML-1M':\n",
        "    lambda_2 = 70.\n",
        "    lambda_s = 0.018\n",
        "    iter_p = 50\n",
        "    iter_f = 10\n",
        "    epoch_p = 20\n",
        "    epoch_f = 30\n",
        "    dot_scale = 0.5\n",
        "\n",
        "elif dataset == 'Douban':\n",
        "    lambda_2 = 10.\n",
        "    lambda_s = 0.022\n",
        "    iter_p = 5\n",
        "    iter_f = 5\n",
        "    epoch_p = 20\n",
        "    epoch_f = 60\n",
        "    dot_scale = 2"
      ]
    },
    {
      "cell_type": "code",
      "execution_count": 15,
      "metadata": {
        "id": "b94aimX3nAMI"
      },
      "outputs": [
        {
          "name": "stdout",
          "output_type": "stream",
          "text": [
            "WARNING:tensorflow:From C:\\Users\\t-yzelinger\\AppData\\Local\\Temp\\ipykernel_20984\\2682195965.py:1: The name tf.placeholder is deprecated. Please use tf.compat.v1.placeholder instead.\n",
            "\n"
          ]
        }
      ],
      "source": [
        "R = tf.placeholder(\"float\", [n_m, n_u])"
      ]
    },
    {
      "cell_type": "markdown",
      "metadata": {
        "id": "5sWtU4-pmDDT"
      },
      "source": [
        "# Network Function"
      ]
    },
    {
      "cell_type": "code",
      "execution_count": 16,
      "metadata": {
        "id": "wX2wREO09zde"
      },
      "outputs": [],
      "source": [
        "def local_kernel(u, v):\n",
        "\n",
        "    dist = tf.norm(u - v, ord=2, axis=2)\n",
        "    hat = tf.maximum(0., 1. - dist**2)\n",
        "\n",
        "    return hat"
      ]
    },
    {
      "cell_type": "code",
      "execution_count": 17,
      "metadata": {
        "id": "c88l9LYr9175"
      },
      "outputs": [],
      "source": [
        "def kernel_layer(x, n_hid=n_hid, n_dim=n_dim, activation=tf.nn.sigmoid, lambda_s=lambda_s, lambda_2=lambda_2, name=''):\n",
        "\n",
        "    with tf.variable_scope(name, reuse=tf.AUTO_REUSE):\n",
        "        W = tf.get_variable('W', [x.shape[1], n_hid])   # w(d) (users(n)*h)\n",
        "        n_in = x.get_shape().as_list()[1]\n",
        "        u = tf.get_variable('u', initializer=tf.random.truncated_normal([n_in, 1, n_dim], 0., 1e-3))\n",
        "        v = tf.get_variable('v', initializer=tf.random.truncated_normal([1, n_hid, n_dim], 0., 1e-3))\n",
        "        b = tf.get_variable('b', [n_hid])\n",
        "\n",
        "    w_hat = local_kernel(u, v)\n",
        "    \n",
        "    sparse_reg = tf.contrib.layers.l2_regularizer(lambda_s)\n",
        "    sparse_reg_term = tf.contrib.layers.apply_regularization(sparse_reg, [w_hat])\n",
        "    \n",
        "    l2_reg = tf.contrib.layers.l2_regularizer(lambda_2)\n",
        "    l2_reg_term = tf.contrib.layers.apply_regularization(l2_reg, [W])\n",
        "\n",
        "    W_eff = W * w_hat  # Local kernelised weight matrix\n",
        "    y = tf.matmul(x, W_eff) + b\n",
        "    y = activation(y)\n",
        "\n",
        "    return y, sparse_reg_term + l2_reg_term"
      ]
    },
    {
      "cell_type": "code",
      "execution_count": 18,
      "metadata": {
        "id": "rlb95FmRVATa"
      },
      "outputs": [],
      "source": [
        "def global_kernel(input, gk_size, dot_scale):\n",
        "\n",
        "    avg_pooling = tf.reduce_mean(input, axis=1)  # Item (axis=1) based average pooling\n",
        "    avg_pooling = tf.reshape(avg_pooling, [1, -1])\n",
        "    n_kernel = avg_pooling.shape[1].value\n",
        "    \n",
        "    conv_kernel = tf.get_variable('conv_kernel', initializer=tf.random.truncated_normal([n_kernel, gk_size**2], stddev=0.1))\n",
        "    gk = tf.matmul(avg_pooling, conv_kernel) * dot_scale  # Scaled dot product\n",
        "    gk = tf.reshape(gk, [gk_size, gk_size, 1, 1])\n",
        "\n",
        "    return gk"
      ]
    },
    {
      "cell_type": "code",
      "execution_count": 19,
      "metadata": {
        "id": "jTLi_65XzIbH"
      },
      "outputs": [],
      "source": [
        "def global_conv(input, W):\n",
        "\n",
        "    input = tf.reshape(input, [1, input.shape[0], input.shape[1], 1])\n",
        "    conv2d = tf.nn.relu(tf.nn.conv2d(input, W, strides=[1,1,1,1], padding='SAME'))\n",
        "\n",
        "    return tf.reshape(conv2d, [conv2d.shape[1], conv2d.shape[2]])"
      ]
    },
    {
      "cell_type": "markdown",
      "metadata": {
        "id": "f8sQCwrSmKG4"
      },
      "source": [
        "# Network Instantiation"
      ]
    },
    {
      "cell_type": "markdown",
      "metadata": {
        "id": "zOtWj1SCo1RW"
      },
      "source": [
        "## Pre-training"
      ]
    },
    {
      "cell_type": "code",
      "execution_count": 20,
      "metadata": {
        "id": "7teUrgWagpW0"
      },
      "outputs": [
        {
          "name": "stdout",
          "output_type": "stream",
          "text": [
            "WARNING:tensorflow:From C:\\Users\\t-yzelinger\\AppData\\Local\\Temp\\ipykernel_20984\\770935157.py:3: The name tf.variable_scope is deprecated. Please use tf.compat.v1.variable_scope instead.\n",
            "\n",
            "WARNING:tensorflow:From C:\\Users\\t-yzelinger\\AppData\\Local\\Temp\\ipykernel_20984\\770935157.py:3: The name tf.AUTO_REUSE is deprecated. Please use tf.compat.v1.AUTO_REUSE instead.\n",
            "\n",
            "WARNING:tensorflow:From C:\\Users\\t-yzelinger\\AppData\\Local\\Temp\\ipykernel_20984\\770935157.py:4: The name tf.get_variable is deprecated. Please use tf.compat.v1.get_variable instead.\n",
            "\n",
            "WARNING:tensorflow:\n",
            "The TensorFlow contrib module will not be included in TensorFlow 2.0.\n",
            "For more information, please see:\n",
            "  * https://github.com/tensorflow/community/blob/master/rfcs/20180907-contrib-sunset.md\n",
            "  * https://github.com/tensorflow/addons\n",
            "  * https://github.com/tensorflow/io (for I/O related ops)\n",
            "If you depend on functionality not listed there, please file an issue.\n",
            "\n",
            "WARNING:tensorflow:From c:\\Users\\t-yzelinger\\AppData\\Local\\anaconda3\\envs\\recsys_venv\\lib\\site-packages\\tensorflow_core\\python\\ops\\math_grad.py:1424: where (from tensorflow.python.ops.array_ops) is deprecated and will be removed in a future version.\n",
            "Instructions for updating:\n",
            "Use tf.where in 2.0, which has the same broadcast rule as np.where\n"
          ]
        }
      ],
      "source": [
        "y = R\n",
        "reg_losses = None\n",
        "\n",
        "for i in range(n_layers):\n",
        "    y, reg_loss = kernel_layer(y, name=str(i))\n",
        "    reg_losses = reg_loss if reg_losses is None else reg_losses + reg_loss\n",
        "\n",
        "pred_p, reg_loss = kernel_layer(y, n_u, activation=tf.identity, name='out')\n",
        "reg_losses = reg_losses + reg_loss\n",
        "\n",
        "# L2 loss\n",
        "diff = train_m * (train_r - pred_p)\n",
        "sqE = tf.nn.l2_loss(diff)\n",
        "loss_p = sqE + reg_losses\n",
        "\n",
        "optimizer_p = tf.contrib.opt.ScipyOptimizerInterface(loss_p, options={'disp': True, 'maxiter': iter_p, 'maxcor': 10}, method='L-BFGS-B')"
      ]
    },
    {
      "cell_type": "markdown",
      "metadata": {
        "id": "4IEBsNhNo4Cj"
      },
      "source": [
        "## Fine-tuning"
      ]
    },
    {
      "cell_type": "code",
      "execution_count": null,
      "metadata": {
        "id": "OiTXqnN6zLXQ"
      },
      "outputs": [],
      "source": [
        "y = R\n",
        "reg_losses = None\n",
        "\n",
        "for i in range(n_layers):\n",
        "    y, _ = kernel_layer(y, name=str(i))\n",
        "\n",
        "y_dash, _ = kernel_layer(y, n_u, activation=tf.identity, name='out')\n",
        "\n",
        "y_dash = (y_dash + mf_prediction) / 2\n",
        "\n",
        "gk = global_kernel(y_dash, gk_size, dot_scale)  # Global kernel\n",
        "y_hat = global_conv(train_r, gk)  # Global kernel-based rating matrix\n",
        "\n",
        "for i in range(n_layers):\n",
        "    y_hat, reg_loss = kernel_layer(y_hat, name=str(i))\n",
        "    reg_losses = reg_loss if reg_losses is None else reg_losses + reg_loss\n",
        "\n",
        "pred_f, reg_loss = kernel_layer(y_hat, n_u, activation=tf.identity, name='out')\n",
        "reg_losses = reg_losses + reg_loss\n",
        "\n",
        "# L2 loss\n",
        "diff = train_m * (train_r - pred_f)\n",
        "sqE = tf.nn.l2_loss(diff)\n",
        "loss_f = sqE + reg_losses\n",
        "\n",
        "optimizer_f = tf.contrib.opt.ScipyOptimizerInterface(loss_f, options={'disp': True, 'maxiter': iter_f, 'maxcor': 10}, method='L-BFGS-B')"
      ]
    },
    {
      "cell_type": "markdown",
      "metadata": {
        "id": "sETwz58aK6y6"
      },
      "source": [
        "# Evaluation code"
      ]
    },
    {
      "cell_type": "code",
      "execution_count": 22,
      "metadata": {
        "id": "vyReXxgac3KH"
      },
      "outputs": [],
      "source": [
        "def dcg_k(score_label, k):\n",
        "    dcg, i = 0., 0\n",
        "    for s in score_label:\n",
        "        if i < k:\n",
        "            dcg += (2**s[1]-1) / np.log2(2+i)\n",
        "            i += 1\n",
        "    return dcg"
      ]
    },
    {
      "cell_type": "code",
      "execution_count": 23,
      "metadata": {
        "id": "jwsSR-8ZdGWo"
      },
      "outputs": [],
      "source": [
        "def ndcg_k(y_hat, y, k):\n",
        "    score_label = np.stack([y_hat, y], axis=1).tolist()\n",
        "    score_label = sorted(score_label, key=lambda d:d[0], reverse=True)\n",
        "    score_label_ = sorted(score_label, key=lambda d:d[1], reverse=True)\n",
        "    norm, i = 0., 0\n",
        "    for s in score_label_:\n",
        "        if i < k:\n",
        "            norm += (2**s[1]-1) / np.log2(2+i)\n",
        "            i += 1\n",
        "    dcg = dcg_k(score_label, k)\n",
        "    return dcg / norm"
      ]
    },
    {
      "cell_type": "code",
      "execution_count": 24,
      "metadata": {
        "id": "yy9eQS51pbhj"
      },
      "outputs": [],
      "source": [
        "def call_ndcg(y_hat, y):\n",
        "    ndcg_sum, num = 0, 0\n",
        "    y_hat, y = y_hat.T, y.T\n",
        "    n_users = y.shape[0]\n",
        "\n",
        "    for i in range(n_users):\n",
        "        y_hat_i = y_hat[i][np.where(y[i])]\n",
        "        y_i = y[i][np.where(y[i])]\n",
        "\n",
        "        if y_i.shape[0] < 2:\n",
        "            continue\n",
        "\n",
        "        ndcg_sum += ndcg_k(y_hat_i, y_i, y_i.shape[0])  # user-wise calculation\n",
        "        num += 1\n",
        "\n",
        "    return ndcg_sum / num"
      ]
    },
    {
      "cell_type": "markdown",
      "metadata": {
        "id": "RXXQjeMxmYEC"
      },
      "source": [
        "# Training and Test Loop"
      ]
    },
    {
      "cell_type": "code",
      "execution_count": 25,
      "metadata": {
        "id": "UZ35Zoha-Eue"
      },
      "outputs": [
        {
          "name": "stdout",
          "output_type": "stream",
          "text": [
            "WARNING:tensorflow:From C:\\Users\\t-yzelinger\\AppData\\Local\\Temp\\ipykernel_20984\\922873020.py:5: The name tf.global_variables_initializer is deprecated. Please use tf.compat.v1.global_variables_initializer instead.\n",
            "\n",
            "WARNING:tensorflow:From C:\\Users\\t-yzelinger\\AppData\\Local\\Temp\\ipykernel_20984\\922873020.py:7: The name tf.Session is deprecated. Please use tf.compat.v1.Session instead.\n",
            "\n",
            "INFO:tensorflow:Optimization terminated with:\n",
            "  Message: STOP: TOTAL NO. of ITERATIONS REACHED LIMIT\n",
            "  Objective function value: 463813.937500\n",
            "  Number of iterations: 50\n",
            "  Number of functions evaluations: 54\n",
            ".-^-._.-^-._.-^-._.-^-._.-^-._.-^-._.-^-._.-^-._.-^-._.-^-._.-^-._.-^-._\n",
            "PRE-TRAINING\n",
            "Epoch: 1 test rmse: 0.96598893 train rmse: 0.87444943\n",
            "Time: 95.12963652610779 seconds\n",
            "Time cumulative: 95.12963652610779 seconds\n",
            ".-^-._.-^-._.-^-._.-^-._.-^-._.-^-._.-^-._.-^-._.-^-._.-^-._.-^-._.-^-._\n",
            "INFO:tensorflow:Optimization terminated with:\n",
            "  Message: STOP: TOTAL NO. of ITERATIONS REACHED LIMIT\n",
            "  Objective function value: 460789.406250\n",
            "  Number of iterations: 10\n",
            "  Number of functions evaluations: 11\n",
            ".-^-._.-^-._.-^-._.-^-._.-^-._.-^-._.-^-._.-^-._.-^-._.-^-._.-^-._.-^-._\n",
            "FINE-TUNING\n",
            "Epoch: 1 test rmse: 0.9615197 test mae: 0.7422145 test ndcg: 0.9008121668331752\n",
            "Epoch: 1 train rmse: 0.8707308 train mae: 0.68460286 train ndcg: 0.914967333009184\n",
            "Time: 87.76968455314636 seconds\n",
            "Time cumulative: 182.89932107925415 seconds\n",
            ".-^-._.-^-._.-^-._.-^-._.-^-._.-^-._.-^-._.-^-._.-^-._.-^-._.-^-._.-^-._\n",
            "INFO:tensorflow:Optimization terminated with:\n",
            "  Message: STOP: TOTAL NO. of ITERATIONS REACHED LIMIT\n",
            "  Objective function value: 455274.593750\n",
            "  Number of iterations: 10\n",
            "  Number of functions evaluations: 12\n",
            ".-^-._.-^-._.-^-._.-^-._.-^-._.-^-._.-^-._.-^-._.-^-._.-^-._.-^-._.-^-._\n",
            "FINE-TUNING\n",
            "Epoch: 2 test rmse: 0.94314414 test mae: 0.73111296 test ndcg: 0.9021093066189703\n",
            "Epoch: 2 train rmse: 0.8652326 train mae: 0.6823088 train ndcg: 0.9164921442828704\n",
            "Time: 89.92910623550415 seconds\n",
            "Time cumulative: 272.8284273147583 seconds\n",
            ".-^-._.-^-._.-^-._.-^-._.-^-._.-^-._.-^-._.-^-._.-^-._.-^-._.-^-._.-^-._\n",
            "INFO:tensorflow:Optimization terminated with:\n",
            "  Message: STOP: TOTAL NO. of ITERATIONS REACHED LIMIT\n",
            "  Objective function value: 451526.000000\n",
            "  Number of iterations: 10\n",
            "  Number of functions evaluations: 12\n",
            ".-^-._.-^-._.-^-._.-^-._.-^-._.-^-._.-^-._.-^-._.-^-._.-^-._.-^-._.-^-._\n",
            "FINE-TUNING\n",
            "Epoch: 3 test rmse: 0.9352474 test mae: 0.7247642 test ndcg: 0.903464064386559\n",
            "Epoch: 3 train rmse: 0.86092913 train mae: 0.6772734 train ndcg: 0.9169108411128098\n",
            "Time: 78.59405899047852 seconds\n",
            "Time cumulative: 351.4224863052368 seconds\n",
            ".-^-._.-^-._.-^-._.-^-._.-^-._.-^-._.-^-._.-^-._.-^-._.-^-._.-^-._.-^-._\n",
            "INFO:tensorflow:Optimization terminated with:\n",
            "  Message: STOP: TOTAL NO. of ITERATIONS REACHED LIMIT\n",
            "  Objective function value: 449193.125000\n",
            "  Number of iterations: 10\n",
            "  Number of functions evaluations: 12\n",
            ".-^-._.-^-._.-^-._.-^-._.-^-._.-^-._.-^-._.-^-._.-^-._.-^-._.-^-._.-^-._\n",
            "FINE-TUNING\n",
            "Epoch: 4 test rmse: 0.9301184 test mae: 0.7220346 test ndcg: 0.9039264194429927\n",
            "Epoch: 4 train rmse: 0.8587484 train mae: 0.67629325 train ndcg: 0.9176145597339609\n",
            "Time: 77.94665455818176 seconds\n",
            "Time cumulative: 429.3691408634186 seconds\n",
            ".-^-._.-^-._.-^-._.-^-._.-^-._.-^-._.-^-._.-^-._.-^-._.-^-._.-^-._.-^-._\n",
            "INFO:tensorflow:Optimization terminated with:\n",
            "  Message: STOP: TOTAL NO. of ITERATIONS REACHED LIMIT\n",
            "  Objective function value: 446227.656250\n",
            "  Number of iterations: 10\n",
            "  Number of functions evaluations: 12\n",
            ".-^-._.-^-._.-^-._.-^-._.-^-._.-^-._.-^-._.-^-._.-^-._.-^-._.-^-._.-^-._\n",
            "FINE-TUNING\n",
            "Epoch: 5 test rmse: 0.9223426 test mae: 0.7166445 test ndcg: 0.9042209044635169\n",
            "Epoch: 5 train rmse: 0.85611886 train mae: 0.6724815 train ndcg: 0.9181524424567844\n",
            "Time: 84.98269271850586 seconds\n",
            "Time cumulative: 514.3518335819244 seconds\n",
            ".-^-._.-^-._.-^-._.-^-._.-^-._.-^-._.-^-._.-^-._.-^-._.-^-._.-^-._.-^-._\n",
            "INFO:tensorflow:Optimization terminated with:\n",
            "  Message: STOP: TOTAL NO. of ITERATIONS REACHED LIMIT\n",
            "  Objective function value: 443733.656250\n",
            "  Number of iterations: 10\n",
            "  Number of functions evaluations: 12\n",
            ".-^-._.-^-._.-^-._.-^-._.-^-._.-^-._.-^-._.-^-._.-^-._.-^-._.-^-._.-^-._\n",
            "FINE-TUNING\n",
            "Epoch: 6 test rmse: 0.9185511 test mae: 0.715242 test ndcg: 0.905007367648108\n",
            "Epoch: 6 train rmse: 0.85353166 train mae: 0.6719553 train ndcg: 0.9186626042193572\n",
            "Time: 84.78945064544678 seconds\n",
            "Time cumulative: 599.1412842273712 seconds\n",
            ".-^-._.-^-._.-^-._.-^-._.-^-._.-^-._.-^-._.-^-._.-^-._.-^-._.-^-._.-^-._\n",
            "INFO:tensorflow:Optimization terminated with:\n",
            "  Message: STOP: TOTAL NO. of ITERATIONS REACHED LIMIT\n",
            "  Objective function value: 441365.812500\n",
            "  Number of iterations: 10\n",
            "  Number of functions evaluations: 12\n",
            ".-^-._.-^-._.-^-._.-^-._.-^-._.-^-._.-^-._.-^-._.-^-._.-^-._.-^-._.-^-._\n",
            "FINE-TUNING\n",
            "Epoch: 7 test rmse: 0.91166484 test mae: 0.7120417 test ndcg: 0.9046740655677057\n",
            "Epoch: 7 train rmse: 0.85188574 train mae: 0.6709753 train ndcg: 0.9194480008401311\n",
            "Time: 73.68317079544067 seconds\n",
            "Time cumulative: 672.8244550228119 seconds\n",
            ".-^-._.-^-._.-^-._.-^-._.-^-._.-^-._.-^-._.-^-._.-^-._.-^-._.-^-._.-^-._\n",
            "INFO:tensorflow:Optimization terminated with:\n",
            "  Message: STOP: TOTAL NO. of ITERATIONS REACHED LIMIT\n",
            "  Objective function value: 438885.750000\n",
            "  Number of iterations: 10\n",
            "  Number of functions evaluations: 12\n",
            ".-^-._.-^-._.-^-._.-^-._.-^-._.-^-._.-^-._.-^-._.-^-._.-^-._.-^-._.-^-._\n",
            "FINE-TUNING\n",
            "Epoch: 8 test rmse: 0.9109911 test mae: 0.71140933 test ndcg: 0.9048587454885284\n",
            "Epoch: 8 train rmse: 0.8490749 train mae: 0.66833264 train ndcg: 0.9197920725097499\n",
            "Time: 62.68792653083801 seconds\n",
            "Time cumulative: 735.5123815536499 seconds\n",
            ".-^-._.-^-._.-^-._.-^-._.-^-._.-^-._.-^-._.-^-._.-^-._.-^-._.-^-._.-^-._\n",
            "INFO:tensorflow:Optimization terminated with:\n",
            "  Message: STOP: TOTAL NO. of ITERATIONS REACHED LIMIT\n",
            "  Objective function value: 436991.968750\n",
            "  Number of iterations: 10\n",
            "  Number of functions evaluations: 12\n",
            ".-^-._.-^-._.-^-._.-^-._.-^-._.-^-._.-^-._.-^-._.-^-._.-^-._.-^-._.-^-._\n",
            "FINE-TUNING\n",
            "Epoch: 9 test rmse: 0.9086754 test mae: 0.7098995 test ndcg: 0.9051106297404203\n",
            "Epoch: 9 train rmse: 0.84740406 train mae: 0.66691333 train ndcg: 0.9203995722329994\n",
            "Time: 72.46603894233704 seconds\n",
            "Time cumulative: 807.9784204959869 seconds\n",
            ".-^-._.-^-._.-^-._.-^-._.-^-._.-^-._.-^-._.-^-._.-^-._.-^-._.-^-._.-^-._\n",
            "INFO:tensorflow:Optimization terminated with:\n",
            "  Message: STOP: TOTAL NO. of ITERATIONS REACHED LIMIT\n",
            "  Objective function value: 435264.531250\n",
            "  Number of iterations: 10\n",
            "  Number of functions evaluations: 12\n",
            ".-^-._.-^-._.-^-._.-^-._.-^-._.-^-._.-^-._.-^-._.-^-._.-^-._.-^-._.-^-._\n",
            "FINE-TUNING\n",
            "Epoch: 10 test rmse: 0.90777105 test mae: 0.70993876 test ndcg: 0.9052577309502297\n",
            "Epoch: 10 train rmse: 0.84592086 train mae: 0.6659716 train ndcg: 0.9207205831832334\n",
            "Time: 73.33594727516174 seconds\n",
            "Time cumulative: 881.3143677711487 seconds\n",
            ".-^-._.-^-._.-^-._.-^-._.-^-._.-^-._.-^-._.-^-._.-^-._.-^-._.-^-._.-^-._\n",
            "INFO:tensorflow:Optimization terminated with:\n",
            "  Message: STOP: TOTAL NO. of ITERATIONS REACHED LIMIT\n",
            "  Objective function value: 433190.250000\n",
            "  Number of iterations: 10\n",
            "  Number of functions evaluations: 12\n",
            ".-^-._.-^-._.-^-._.-^-._.-^-._.-^-._.-^-._.-^-._.-^-._.-^-._.-^-._.-^-._\n",
            "FINE-TUNING\n",
            "Epoch: 11 test rmse: 0.90536815 test mae: 0.7080979 test ndcg: 0.9053814406463769\n",
            "Epoch: 11 train rmse: 0.843909 train mae: 0.6642187 train ndcg: 0.9216221715013249\n",
            "Time: 82.569171667099 seconds\n",
            "Time cumulative: 963.8835394382477 seconds\n",
            ".-^-._.-^-._.-^-._.-^-._.-^-._.-^-._.-^-._.-^-._.-^-._.-^-._.-^-._.-^-._\n",
            "INFO:tensorflow:Optimization terminated with:\n",
            "  Message: STOP: TOTAL NO. of ITERATIONS REACHED LIMIT\n",
            "  Objective function value: 431665.187500\n",
            "  Number of iterations: 10\n",
            "  Number of functions evaluations: 12\n",
            ".-^-._.-^-._.-^-._.-^-._.-^-._.-^-._.-^-._.-^-._.-^-._.-^-._.-^-._.-^-._\n",
            "FINE-TUNING\n",
            "Epoch: 12 test rmse: 0.90599066 test mae: 0.70855534 test ndcg: 0.9057331700095905\n",
            "Epoch: 12 train rmse: 0.84252214 train mae: 0.66295594 train ndcg: 0.9219659405715686\n",
            "Time: 68.1425530910492 seconds\n",
            "Time cumulative: 1032.0260925292969 seconds\n",
            ".-^-._.-^-._.-^-._.-^-._.-^-._.-^-._.-^-._.-^-._.-^-._.-^-._.-^-._.-^-._\n",
            "INFO:tensorflow:Optimization terminated with:\n",
            "  Message: STOP: TOTAL NO. of ITERATIONS REACHED LIMIT\n",
            "  Objective function value: 430010.062500\n",
            "  Number of iterations: 10\n",
            "  Number of functions evaluations: 12\n",
            ".-^-._.-^-._.-^-._.-^-._.-^-._.-^-._.-^-._.-^-._.-^-._.-^-._.-^-._.-^-._\n",
            "FINE-TUNING\n",
            "Epoch: 13 test rmse: 0.9036842 test mae: 0.7070408 test ndcg: 0.9052541714238299\n",
            "Epoch: 13 train rmse: 0.8410244 train mae: 0.6615527 train ndcg: 0.9226067660325494\n",
            "Time: 70.52791047096252 seconds\n",
            "Time cumulative: 1102.5540030002594 seconds\n",
            ".-^-._.-^-._.-^-._.-^-._.-^-._.-^-._.-^-._.-^-._.-^-._.-^-._.-^-._.-^-._\n",
            "INFO:tensorflow:Optimization terminated with:\n",
            "  Message: STOP: TOTAL NO. of ITERATIONS REACHED LIMIT\n",
            "  Objective function value: 428384.000000\n",
            "  Number of iterations: 10\n",
            "  Number of functions evaluations: 12\n",
            ".-^-._.-^-._.-^-._.-^-._.-^-._.-^-._.-^-._.-^-._.-^-._.-^-._.-^-._.-^-._\n",
            "FINE-TUNING\n",
            "Epoch: 14 test rmse: 0.90501523 test mae: 0.70808095 test ndcg: 0.9055736681373672\n",
            "Epoch: 14 train rmse: 0.8395451 train mae: 0.6605803 train ndcg: 0.9229632616253434\n",
            "Time: 77.08433055877686 seconds\n",
            "Time cumulative: 1179.6383335590363 seconds\n",
            ".-^-._.-^-._.-^-._.-^-._.-^-._.-^-._.-^-._.-^-._.-^-._.-^-._.-^-._.-^-._\n",
            "INFO:tensorflow:Optimization terminated with:\n",
            "  Message: STOP: TOTAL NO. of ITERATIONS REACHED LIMIT\n",
            "  Objective function value: 426914.937500\n",
            "  Number of iterations: 10\n",
            "  Number of functions evaluations: 12\n",
            ".-^-._.-^-._.-^-._.-^-._.-^-._.-^-._.-^-._.-^-._.-^-._.-^-._.-^-._.-^-._\n",
            "FINE-TUNING\n",
            "Epoch: 15 test rmse: 0.9024027 test mae: 0.7060285 test ndcg: 0.906685429808202\n",
            "Epoch: 15 train rmse: 0.83822274 train mae: 0.6595578 train ndcg: 0.9234223074676592\n",
            "Time: 75.4982681274414 seconds\n",
            "Time cumulative: 1255.1366016864777 seconds\n",
            ".-^-._.-^-._.-^-._.-^-._.-^-._.-^-._.-^-._.-^-._.-^-._.-^-._.-^-._.-^-._\n",
            "INFO:tensorflow:Optimization terminated with:\n",
            "  Message: STOP: TOTAL NO. of ITERATIONS REACHED LIMIT\n",
            "  Objective function value: 425554.656250\n",
            "  Number of iterations: 10\n",
            "  Number of functions evaluations: 12\n",
            ".-^-._.-^-._.-^-._.-^-._.-^-._.-^-._.-^-._.-^-._.-^-._.-^-._.-^-._.-^-._\n",
            "FINE-TUNING\n",
            "Epoch: 16 test rmse: 0.9033236 test mae: 0.7068979 test ndcg: 0.9064257979508377\n",
            "Epoch: 16 train rmse: 0.836918 train mae: 0.6583017 train ndcg: 0.923632871591664\n",
            "Time: 84.57516551017761 seconds\n",
            "Time cumulative: 1339.7117671966553 seconds\n",
            ".-^-._.-^-._.-^-._.-^-._.-^-._.-^-._.-^-._.-^-._.-^-._.-^-._.-^-._.-^-._\n",
            "INFO:tensorflow:Optimization terminated with:\n",
            "  Message: STOP: TOTAL NO. of ITERATIONS REACHED LIMIT\n",
            "  Objective function value: 424489.000000\n",
            "  Number of iterations: 10\n",
            "  Number of functions evaluations: 12\n",
            ".-^-._.-^-._.-^-._.-^-._.-^-._.-^-._.-^-._.-^-._.-^-._.-^-._.-^-._.-^-._\n",
            "FINE-TUNING\n",
            "Epoch: 17 test rmse: 0.9018029 test mae: 0.7056494 test ndcg: 0.9062640509688262\n",
            "Epoch: 17 train rmse: 0.83583605 train mae: 0.6576264 train ndcg: 0.9240303394949743\n",
            "Time: 67.930100440979 seconds\n",
            "Time cumulative: 1407.6418676376343 seconds\n",
            ".-^-._.-^-._.-^-._.-^-._.-^-._.-^-._.-^-._.-^-._.-^-._.-^-._.-^-._.-^-._\n",
            "INFO:tensorflow:Optimization terminated with:\n",
            "  Message: STOP: TOTAL NO. of ITERATIONS REACHED LIMIT\n",
            "  Objective function value: 423102.375000\n",
            "  Number of iterations: 10\n",
            "  Number of functions evaluations: 13\n",
            ".-^-._.-^-._.-^-._.-^-._.-^-._.-^-._.-^-._.-^-._.-^-._.-^-._.-^-._.-^-._\n",
            "FINE-TUNING\n",
            "Epoch: 18 test rmse: 0.9039258 test mae: 0.7077428 test ndcg: 0.905721939127632\n",
            "Epoch: 18 train rmse: 0.835542 train mae: 0.6574438 train ndcg: 0.9248932645896699\n",
            "Time: 75.75249099731445 seconds\n",
            "Time cumulative: 1483.3943586349487 seconds\n",
            ".-^-._.-^-._.-^-._.-^-._.-^-._.-^-._.-^-._.-^-._.-^-._.-^-._.-^-._.-^-._\n",
            "INFO:tensorflow:Optimization terminated with:\n",
            "  Message: STOP: TOTAL NO. of ITERATIONS REACHED LIMIT\n",
            "  Objective function value: 420727.843750\n",
            "  Number of iterations: 10\n",
            "  Number of functions evaluations: 12\n",
            ".-^-._.-^-._.-^-._.-^-._.-^-._.-^-._.-^-._.-^-._.-^-._.-^-._.-^-._.-^-._\n",
            "FINE-TUNING\n",
            "Epoch: 19 test rmse: 0.9013078 test mae: 0.7047868 test ndcg: 0.9066478685914694\n",
            "Epoch: 19 train rmse: 0.83274776 train mae: 0.65448695 train ndcg: 0.9251849336728971\n",
            "Time: 65.51373171806335 seconds\n",
            "Time cumulative: 1548.908090353012 seconds\n",
            ".-^-._.-^-._.-^-._.-^-._.-^-._.-^-._.-^-._.-^-._.-^-._.-^-._.-^-._.-^-._\n",
            "INFO:tensorflow:Optimization terminated with:\n",
            "  Message: STOP: TOTAL NO. of ITERATIONS REACHED LIMIT\n",
            "  Objective function value: 419716.156250\n",
            "  Number of iterations: 10\n",
            "  Number of functions evaluations: 12\n",
            ".-^-._.-^-._.-^-._.-^-._.-^-._.-^-._.-^-._.-^-._.-^-._.-^-._.-^-._.-^-._\n",
            "FINE-TUNING\n",
            "Epoch: 20 test rmse: 0.90169144 test mae: 0.7056835 test ndcg: 0.9067772252007944\n",
            "Epoch: 20 train rmse: 0.83192664 train mae: 0.65427434 train ndcg: 0.9255354880392005\n",
            "Time: 68.1040427684784 seconds\n",
            "Time cumulative: 1617.0121331214905 seconds\n",
            ".-^-._.-^-._.-^-._.-^-._.-^-._.-^-._.-^-._.-^-._.-^-._.-^-._.-^-._.-^-._\n",
            "INFO:tensorflow:Optimization terminated with:\n",
            "  Message: STOP: TOTAL NO. of ITERATIONS REACHED LIMIT\n",
            "  Objective function value: 418556.843750\n",
            "  Number of iterations: 10\n",
            "  Number of functions evaluations: 12\n",
            ".-^-._.-^-._.-^-._.-^-._.-^-._.-^-._.-^-._.-^-._.-^-._.-^-._.-^-._.-^-._\n",
            "FINE-TUNING\n",
            "Epoch: 21 test rmse: 0.90093225 test mae: 0.7044747 test ndcg: 0.9072353902055993\n",
            "Epoch: 21 train rmse: 0.83090305 train mae: 0.653039 train ndcg: 0.9259054512884242\n",
            "Time: 69.88026738166809 seconds\n",
            "Time cumulative: 1686.8924005031586 seconds\n",
            ".-^-._.-^-._.-^-._.-^-._.-^-._.-^-._.-^-._.-^-._.-^-._.-^-._.-^-._.-^-._\n",
            "INFO:tensorflow:Optimization terminated with:\n",
            "  Message: STOP: TOTAL NO. of ITERATIONS REACHED LIMIT\n",
            "  Objective function value: 417492.218750\n",
            "  Number of iterations: 10\n",
            "  Number of functions evaluations: 13\n",
            ".-^-._.-^-._.-^-._.-^-._.-^-._.-^-._.-^-._.-^-._.-^-._.-^-._.-^-._.-^-._\n",
            "FINE-TUNING\n",
            "Epoch: 22 test rmse: 0.8998955 test mae: 0.70442545 test ndcg: 0.9069139312316085\n",
            "Epoch: 22 train rmse: 0.8297935 train mae: 0.652759 train ndcg: 0.9260397876092984\n",
            "Time: 80.61645770072937 seconds\n",
            "Time cumulative: 1767.508858203888 seconds\n",
            ".-^-._.-^-._.-^-._.-^-._.-^-._.-^-._.-^-._.-^-._.-^-._.-^-._.-^-._.-^-._\n",
            "INFO:tensorflow:Optimization terminated with:\n",
            "  Message: STOP: TOTAL NO. of ITERATIONS REACHED LIMIT\n",
            "  Objective function value: 416598.687500\n",
            "  Number of iterations: 10\n",
            "  Number of functions evaluations: 13\n",
            ".-^-._.-^-._.-^-._.-^-._.-^-._.-^-._.-^-._.-^-._.-^-._.-^-._.-^-._.-^-._\n",
            "FINE-TUNING\n",
            "Epoch: 23 test rmse: 0.90011233 test mae: 0.70408016 test ndcg: 0.9073061992201001\n",
            "Epoch: 23 train rmse: 0.8292038 train mae: 0.6518008 train ndcg: 0.9263739477482348\n",
            "Time: 71.34516763687134 seconds\n",
            "Time cumulative: 1838.8540258407593 seconds\n",
            ".-^-._.-^-._.-^-._.-^-._.-^-._.-^-._.-^-._.-^-._.-^-._.-^-._.-^-._.-^-._\n",
            "INFO:tensorflow:Optimization terminated with:\n",
            "  Message: STOP: TOTAL NO. of ITERATIONS REACHED LIMIT\n",
            "  Objective function value: 415511.937500\n",
            "  Number of iterations: 10\n",
            "  Number of functions evaluations: 12\n",
            ".-^-._.-^-._.-^-._.-^-._.-^-._.-^-._.-^-._.-^-._.-^-._.-^-._.-^-._.-^-._\n",
            "FINE-TUNING\n",
            "Epoch: 24 test rmse: 0.9004166 test mae: 0.7047006 test ndcg: 0.9072994886799872\n",
            "Epoch: 24 train rmse: 0.82830167 train mae: 0.6514348 train ndcg: 0.9269464361044105\n",
            "Time: 72.516774892807 seconds\n",
            "Time cumulative: 1911.3708007335663 seconds\n",
            ".-^-._.-^-._.-^-._.-^-._.-^-._.-^-._.-^-._.-^-._.-^-._.-^-._.-^-._.-^-._\n",
            "INFO:tensorflow:Optimization terminated with:\n",
            "  Message: STOP: TOTAL NO. of ITERATIONS REACHED LIMIT\n",
            "  Objective function value: 414357.812500\n",
            "  Number of iterations: 10\n",
            "  Number of functions evaluations: 12\n",
            ".-^-._.-^-._.-^-._.-^-._.-^-._.-^-._.-^-._.-^-._.-^-._.-^-._.-^-._.-^-._\n",
            "FINE-TUNING\n",
            "Epoch: 25 test rmse: 0.89934146 test mae: 0.70356256 test ndcg: 0.9075224002325326\n",
            "Epoch: 25 train rmse: 0.8271106 train mae: 0.65019727 train ndcg: 0.927128332809919\n",
            "Time: 76.04847145080566 seconds\n",
            "Time cumulative: 1987.419272184372 seconds\n",
            ".-^-._.-^-._.-^-._.-^-._.-^-._.-^-._.-^-._.-^-._.-^-._.-^-._.-^-._.-^-._\n",
            "INFO:tensorflow:Optimization terminated with:\n",
            "  Message: STOP: TOTAL NO. of ITERATIONS REACHED LIMIT\n",
            "  Objective function value: 413423.125000\n",
            "  Number of iterations: 10\n",
            "  Number of functions evaluations: 13\n",
            ".-^-._.-^-._.-^-._.-^-._.-^-._.-^-._.-^-._.-^-._.-^-._.-^-._.-^-._.-^-._\n",
            "FINE-TUNING\n",
            "Epoch: 26 test rmse: 0.89954793 test mae: 0.70389074 test ndcg: 0.907441899863691\n",
            "Epoch: 26 train rmse: 0.82623565 train mae: 0.64941573 train ndcg: 0.9274623744159993\n",
            "Time: 65.22266006469727 seconds\n",
            "Time cumulative: 2052.641932249069 seconds\n",
            ".-^-._.-^-._.-^-._.-^-._.-^-._.-^-._.-^-._.-^-._.-^-._.-^-._.-^-._.-^-._\n",
            "INFO:tensorflow:Optimization terminated with:\n",
            "  Message: STOP: TOTAL NO. of ITERATIONS REACHED LIMIT\n",
            "  Objective function value: 412162.468750\n",
            "  Number of iterations: 10\n",
            "  Number of functions evaluations: 12\n",
            ".-^-._.-^-._.-^-._.-^-._.-^-._.-^-._.-^-._.-^-._.-^-._.-^-._.-^-._.-^-._\n",
            "FINE-TUNING\n",
            "Epoch: 27 test rmse: 0.8984335 test mae: 0.703133 test ndcg: 0.9073746198315442\n",
            "Epoch: 27 train rmse: 0.8251795 train mae: 0.64872766 train ndcg: 0.9279901840712915\n",
            "Time: 67.52491092681885 seconds\n",
            "Time cumulative: 2120.166843175888 seconds\n",
            ".-^-._.-^-._.-^-._.-^-._.-^-._.-^-._.-^-._.-^-._.-^-._.-^-._.-^-._.-^-._\n",
            "INFO:tensorflow:Optimization terminated with:\n",
            "  Message: STOP: TOTAL NO. of ITERATIONS REACHED LIMIT\n",
            "  Objective function value: 411364.718750\n",
            "  Number of iterations: 10\n",
            "  Number of functions evaluations: 12\n",
            ".-^-._.-^-._.-^-._.-^-._.-^-._.-^-._.-^-._.-^-._.-^-._.-^-._.-^-._.-^-._\n",
            "FINE-TUNING\n",
            "Epoch: 28 test rmse: 0.89888084 test mae: 0.7034904 test ndcg: 0.9075866981000491\n",
            "Epoch: 28 train rmse: 0.8244781 train mae: 0.6481176 train ndcg: 0.9281418046175518\n",
            "Time: 64.64765644073486 seconds\n",
            "Time cumulative: 2184.814499616623 seconds\n",
            ".-^-._.-^-._.-^-._.-^-._.-^-._.-^-._.-^-._.-^-._.-^-._.-^-._.-^-._.-^-._\n",
            "INFO:tensorflow:Optimization terminated with:\n",
            "  Message: STOP: TOTAL NO. of ITERATIONS REACHED LIMIT\n",
            "  Objective function value: 410325.250000\n",
            "  Number of iterations: 10\n",
            "  Number of functions evaluations: 13\n",
            ".-^-._.-^-._.-^-._.-^-._.-^-._.-^-._.-^-._.-^-._.-^-._.-^-._.-^-._.-^-._\n",
            "FINE-TUNING\n",
            "Epoch: 29 test rmse: 0.89849085 test mae: 0.7028852 test ndcg: 0.90749804922302\n",
            "Epoch: 29 train rmse: 0.82363355 train mae: 0.64713466 train ndcg: 0.9285887820255473\n",
            "Time: 72.84693884849548 seconds\n",
            "Time cumulative: 2257.6614384651184 seconds\n",
            ".-^-._.-^-._.-^-._.-^-._.-^-._.-^-._.-^-._.-^-._.-^-._.-^-._.-^-._.-^-._\n",
            "INFO:tensorflow:Optimization terminated with:\n",
            "  Message: STOP: TOTAL NO. of ITERATIONS REACHED LIMIT\n",
            "  Objective function value: 409263.937500\n",
            "  Number of iterations: 10\n",
            "  Number of functions evaluations: 12\n",
            ".-^-._.-^-._.-^-._.-^-._.-^-._.-^-._.-^-._.-^-._.-^-._.-^-._.-^-._.-^-._\n",
            "FINE-TUNING\n",
            "Epoch: 30 test rmse: 0.8986345 test mae: 0.7031544 test ndcg: 0.9077004809890467\n",
            "Epoch: 30 train rmse: 0.8227634 train mae: 0.6465657 train ndcg: 0.9288395439276338\n",
            "Time: 65.21374154090881 seconds\n",
            "Time cumulative: 2322.875180006027 seconds\n",
            ".-^-._.-^-._.-^-._.-^-._.-^-._.-^-._.-^-._.-^-._.-^-._.-^-._.-^-._.-^-._\n"
          ]
        }
      ],
      "source": [
        "best_rmse_ep, best_mae_ep, best_ndcg_ep = 0, 0, 0\n",
        "best_rmse, best_mae, best_ndcg = float(\"inf\"), float(\"inf\"), 0\n",
        "\n",
        "time_cumulative = 0\n",
        "init = tf.global_variables_initializer()\n",
        "\n",
        "with tf.Session() as sess:\n",
        "    sess.run(init)\n",
        "    for i in range(epoch_p):\n",
        "        tic = time()\n",
        "        optimizer_p.minimize(sess, feed_dict={R: train_r})\n",
        "        pre = sess.run(pred_p, feed_dict={R: train_r})\n",
        "\n",
        "        t = time() - tic\n",
        "        time_cumulative += t\n",
        "        \n",
        "        error = (test_m * (np.clip(pre, 1., 5.) - test_r) ** 2).sum() / test_m.sum()  # test error\n",
        "        test_rmse = np.sqrt(error)\n",
        "\n",
        "        error_train = (train_m * (np.clip(pre, 1., 5.) - train_r) ** 2).sum() / train_m.sum()  # train error\n",
        "        train_rmse = np.sqrt(error_train)\n",
        "\n",
        "        print('.-^-._' * 12)\n",
        "        print('PRE-TRAINING')\n",
        "        print('Epoch:', i+1, 'test rmse:', test_rmse, 'train rmse:', train_rmse)\n",
        "        print('Time:', t, 'seconds')\n",
        "        print('Time cumulative:', time_cumulative, 'seconds')\n",
        "        print('.-^-._' * 12)\n",
        "        break\n",
        "\n",
        "    for i in range(epoch_f):\n",
        "        tic = time()\n",
        "        optimizer_f.minimize(sess, feed_dict={R: train_r})\n",
        "        pre = sess.run(pred_f, feed_dict={R: train_r})\n",
        "\n",
        "        t = time() - tic\n",
        "        time_cumulative += t\n",
        "        \n",
        "        error = (test_m * (np.clip(pre, 1., 5.) - test_r) ** 2).sum() / test_m.sum()  # test error\n",
        "        test_rmse = np.sqrt(error)\n",
        "\n",
        "        error_train = (train_m * (np.clip(pre, 1., 5.) - train_r) ** 2).sum() / train_m.sum()  # train error\n",
        "        train_rmse = np.sqrt(error_train)\n",
        "\n",
        "        test_mae = (test_m * np.abs(np.clip(pre, 1., 5.) - test_r)).sum() / test_m.sum()\n",
        "        train_mae = (train_m * np.abs(np.clip(pre, 1., 5.) - train_r)).sum() / train_m.sum()\n",
        "\n",
        "        test_ndcg = call_ndcg(np.clip(pre, 1., 5.), test_r)\n",
        "        train_ndcg = call_ndcg(np.clip(pre, 1., 5.), train_r)\n",
        "\n",
        "        if test_rmse < best_rmse:\n",
        "            best_rmse = test_rmse\n",
        "            best_rmse_ep = i+1\n",
        "\n",
        "        if test_mae < best_mae:\n",
        "            best_mae = test_mae\n",
        "            best_mae_ep = i+1\n",
        "\n",
        "        if best_ndcg < test_ndcg:\n",
        "            best_ndcg = test_ndcg\n",
        "            best_ndcg_ep = i+1\n",
        "\n",
        "        print('.-^-._' * 12)\n",
        "        print('FINE-TUNING')\n",
        "        print('Epoch:', i+1, 'test rmse:', test_rmse, 'test mae:', test_mae, 'test ndcg:', test_ndcg)\n",
        "        print('Epoch:', i+1, 'train rmse:', train_rmse, 'train mae:', train_mae, 'train ndcg:', train_ndcg)\n",
        "        print('Time:', t, 'seconds')\n",
        "        print('Time cumulative:', time_cumulative, 'seconds')\n",
        "        print('.-^-._' * 12)"
      ]
    },
    {
      "cell_type": "code",
      "execution_count": 26,
      "metadata": {
        "id": "CTi_PdXJqTjh"
      },
      "outputs": [
        {
          "name": "stdout",
          "output_type": "stream",
          "text": [
            "Epoch: 27  best rmse: 0.8984335\n",
            "Epoch: 29  best mae: 0.7028852\n",
            "Epoch: 30  best ndcg: 0.9077004809890467\n"
          ]
        }
      ],
      "source": [
        "# Final result\n",
        "print('Epoch:', best_rmse_ep, ' best rmse:', best_rmse)\n",
        "print('Epoch:', best_mae_ep, ' best mae:', best_mae)\n",
        "print('Epoch:', best_ndcg_ep, ' best ndcg:', best_ndcg)"
      ]
    }
  ],
  "metadata": {
    "accelerator": "GPU",
    "colab": {
      "collapsed_sections": [],
      "name": "GLocal_K.ipynb",
      "provenance": []
    },
    "kernelspec": {
      "display_name": "recsys_venv",
      "language": "python",
      "name": "python3"
    },
    "language_info": {
      "codemirror_mode": {
        "name": "ipython",
        "version": 3
      },
      "file_extension": ".py",
      "mimetype": "text/x-python",
      "name": "python",
      "nbconvert_exporter": "python",
      "pygments_lexer": "ipython3",
      "version": "3.7.12"
    }
  },
  "nbformat": 4,
  "nbformat_minor": 0
}
